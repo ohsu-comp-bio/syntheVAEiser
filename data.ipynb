{
 "cells": [
  {
   "cell_type": "code",
   "execution_count": null,
   "id": "04e029b3-9a0a-41a3-9714-e9cd59e772b8",
   "metadata": {},
   "outputs": [],
   "source": [
    "# from data_prep in h_functions"
   ]
  },
  {
   "cell_type": "code",
   "execution_count": 1,
   "id": "a3bad981-bc2d-4501-a634-00e046830ca6",
   "metadata": {},
   "outputs": [],
   "source": [
    "import glob\n",
    "import pandas as pd\n",
    "import json"
   ]
  },
  {
   "cell_type": "code",
   "execution_count": 2,
   "id": "b2e1f33e-be62-45af-ba31-d92f84aaa4c3",
   "metadata": {},
   "outputs": [],
   "source": [
    "all_paths = sorted(glob.glob(\n",
    "    '/Users/karlberb/Documents/work/GDAN_TMP/TMP_v12_20210228/*.tsv'))\n",
    "cv_folds = (glob.glob(\n",
    "    '/Users/karlberb/Documents/work/GDAN_TMP/TMP_v12_20210228/*CVfolds_5FOLD*.tsv'))\n",
    "molecular_files = sorted(list(set(all_paths)-set(cv_folds)))"
   ]
  },
  {
   "cell_type": "code",
   "execution_count": 5,
   "id": "3b830317-a0ac-4f2a-87f7-92086043837d",
   "metadata": {},
   "outputs": [
    {
     "name": "stdout",
     "output_type": "stream",
     "text": [
      "ACC\n",
      "BLCA\n",
      "BRCA\n",
      "CESC\n",
      "COADREAD\n",
      "ESCC\n",
      "GEA\n",
      "HNSC\n",
      "KIRCKICH\n",
      "KIRP\n",
      "LGGGBM\n",
      "LIHCCHOL\n",
      "LUAD\n",
      "LUSC\n",
      "MESO\n",
      "OV\n",
      "PAAD\n",
      "PCPG\n",
      "PRAD\n",
      "SARC\n",
      "SKCM\n",
      "TGCT\n",
      "THCA\n",
      "THYM\n",
      "UCEC\n",
      "UVM\n",
      "done\n"
     ]
    }
   ],
   "source": [
    "data_stats_frame = pd.DataFrame()\n",
    "for pth in molecular_files:\n",
    "    data_stats = {}\n",
    "    mol_fl = pd.read_csv(pth, sep=\"\\t\", index_col=0)\n",
    "    data_stats['sample_count'] = len(mol_fl)\n",
    "    # break\n",
    "    print(mol_fl.index.name)\n",
    "    data_stats['subtype_counts'] = json.dumps(list(mol_fl.Labels.value_counts()))\n",
    "    \n",
    "    feat_cols = mol_fl.columns[1:]\n",
    "    \n",
    "    type_mode_list = []\n",
    "    for col in feat_cols:\n",
    "        pos_1_2 = col.split(':')\n",
    "        type_mode_list.append(pos_1_2[0]+':'+pos_1_2[1])\n",
    "    datatype_prefixes = list(set(type_mode_list))\n",
    "    data_stats['type_modes'] = json.dumps(datatype_prefixes)\n",
    "    \n",
    "    check_list = []    \n",
    "    \n",
    "    prefix = 'N:GEXP'\n",
    "    dtyp_list = [col for col in feat_cols if col.startswith(prefix)]\n",
    "    data_stats[prefix] = len(dtyp_list)\n",
    "    check_list.append(len(dtyp_list))\n",
    "    dtyp_list = ['Labels'] + dtyp_list # add subtype labels\n",
    "    file = mol_fl.loc[:, dtyp_list]\n",
    "    file.to_csv('i_o/gene_expression_features/' +\n",
    "                file.index.name+'_'+prefix+'.tsv', sep = '\\t')\n",
    "    \n",
    "    prefix = 'N:MIR'\n",
    "    dtyp_list = [col for col in feat_cols if col.startswith(prefix)]\n",
    "    data_stats[prefix] = len(dtyp_list)\n",
    "    check_list.append(len(dtyp_list))\n",
    "    dtyp_list = ['Labels'] + dtyp_list # add subtype labels\n",
    "    file = mol_fl.loc[:, dtyp_list]\n",
    "    file.to_csv('i_o/micro_RNA_features/' +\n",
    "                file.index.name+'_'+prefix+'.tsv', sep = '\\t')\n",
    "    \n",
    "    prefix = 'N:METH'\n",
    "    dtyp_list = [col for col in feat_cols if col.startswith(prefix)]\n",
    "    data_stats[prefix] = len(dtyp_list)\n",
    "    check_list.append(len(dtyp_list))\n",
    "    dtyp_list = ['Labels'] + dtyp_list # add subtype labels\n",
    "    file = mol_fl.loc[:, dtyp_list]\n",
    "    file.to_csv('i_o/methylation_features/' +\n",
    "                file.index.name+'_'+prefix+'.tsv', sep = '\\t')    \n",
    "    \n",
    "    \n",
    "    prefix = 'I:CNVR'\n",
    "    dtyp_list = [col for col in feat_cols if col.startswith(prefix)]\n",
    "    data_stats[prefix] = len(dtyp_list)\n",
    "    check_list.append(len(dtyp_list))\n",
    "    dtyp_list = ['Labels'] + dtyp_list # add subtype labels\n",
    "    file = mol_fl.loc[:, dtyp_list]\n",
    "    file.to_csv('i_o/copy_number_features/' +\n",
    "                file.index.name+'_'+prefix+'.tsv', sep = '\\t')    \n",
    "    \n",
    "    \n",
    "    prefix = 'B:MUTA'\n",
    "    dtyp_list = [col for col in feat_cols if col.startswith(prefix)]\n",
    "    data_stats[prefix] = len(dtyp_list)\n",
    "    check_list.append(len(dtyp_list))\n",
    "    dtyp_list = ['Labels'] + dtyp_list # add subtype labels\n",
    "    file = mol_fl.loc[:, dtyp_list]\n",
    "    file.to_csv('i_o/mutation_features/' +\n",
    "                file.index.name+'_'+prefix+'.tsv', sep = '\\t')    \n",
    "    \n",
    "    data_stats['total_features'] = len(feat_cols)\n",
    "    data_stats['feature_check'] = sum(check_list)\n",
    "    \n",
    "    loop_frame = pd.DataFrame(data_stats, index = [mol_fl.index.name])\n",
    "    data_stats_frame = pd.concat([data_stats_frame, loop_frame], axis = 0)\n",
    "\n",
    "print('done')"
   ]
  },
  {
   "cell_type": "code",
   "execution_count": 6,
   "id": "b9c70140-299f-4bdc-9799-10e9853acace",
   "metadata": {},
   "outputs": [
    {
     "data": {
      "text/html": [
       "<div>\n",
       "<style scoped>\n",
       "    .dataframe tbody tr th:only-of-type {\n",
       "        vertical-align: middle;\n",
       "    }\n",
       "\n",
       "    .dataframe tbody tr th {\n",
       "        vertical-align: top;\n",
       "    }\n",
       "\n",
       "    .dataframe thead th {\n",
       "        text-align: right;\n",
       "    }\n",
       "</style>\n",
       "<table border=\"1\" class=\"dataframe\">\n",
       "  <thead>\n",
       "    <tr style=\"text-align: right;\">\n",
       "      <th></th>\n",
       "      <th>sample_count</th>\n",
       "      <th>subtype_counts</th>\n",
       "      <th>type_modes</th>\n",
       "      <th>N:GEXP</th>\n",
       "      <th>N:MIR</th>\n",
       "      <th>N:METH</th>\n",
       "      <th>I:CNVR</th>\n",
       "      <th>B:MUTA</th>\n",
       "      <th>total_features</th>\n",
       "      <th>feature_check</th>\n",
       "    </tr>\n",
       "  </thead>\n",
       "  <tbody>\n",
       "    <tr>\n",
       "      <th>ACC</th>\n",
       "      <td>76</td>\n",
       "      <td>[33, 24, 19]</td>\n",
       "      <td>[\"N:METH\", \"N:GEXP\", \"B:MUTA\", \"N:MIR\", \"I:CNVR\"]</td>\n",
       "      <td>20531</td>\n",
       "      <td>743</td>\n",
       "      <td>14665</td>\n",
       "      <td>3382</td>\n",
       "      <td>2228</td>\n",
       "      <td>41549</td>\n",
       "      <td>41549</td>\n",
       "    </tr>\n",
       "    <tr>\n",
       "      <th>BLCA</th>\n",
       "      <td>399</td>\n",
       "      <td>[148, 126, 53, 45, 21, 6]</td>\n",
       "      <td>[\"N:METH\", \"N:GEXP\", \"B:MUTA\", \"N:MIR\", \"I:CNVR\"]</td>\n",
       "      <td>20531</td>\n",
       "      <td>743</td>\n",
       "      <td>11530</td>\n",
       "      <td>10210</td>\n",
       "      <td>2228</td>\n",
       "      <td>45242</td>\n",
       "      <td>45242</td>\n",
       "    </tr>\n",
       "    <tr>\n",
       "      <th>BRCA</th>\n",
       "      <td>995</td>\n",
       "      <td>[535, 205, 175, 80]</td>\n",
       "      <td>[\"N:METH\", \"N:GEXP\", \"B:MUTA\", \"N:MIR\", \"I:CNVR\"]</td>\n",
       "      <td>20531</td>\n",
       "      <td>743</td>\n",
       "      <td>657</td>\n",
       "      <td>15802</td>\n",
       "      <td>2228</td>\n",
       "      <td>39961</td>\n",
       "      <td>39961</td>\n",
       "    </tr>\n",
       "    <tr>\n",
       "      <th>CESC</th>\n",
       "      <td>177</td>\n",
       "      <td>[85, 50, 42]</td>\n",
       "      <td>[\"N:METH\", \"N:GEXP\", \"B:MUTA\", \"N:MIR\", \"I:CNVR\"]</td>\n",
       "      <td>20531</td>\n",
       "      <td>743</td>\n",
       "      <td>17003</td>\n",
       "      <td>5833</td>\n",
       "      <td>2228</td>\n",
       "      <td>46338</td>\n",
       "      <td>46338</td>\n",
       "    </tr>\n",
       "    <tr>\n",
       "      <th>COADREAD</th>\n",
       "      <td>449</td>\n",
       "      <td>[181, 133, 55, 40, 23, 17]</td>\n",
       "      <td>[\"N:METH\", \"N:GEXP\", \"B:MUTA\", \"N:MIR\", \"I:CNVR\"]</td>\n",
       "      <td>17507</td>\n",
       "      <td>743</td>\n",
       "      <td>734</td>\n",
       "      <td>7633</td>\n",
       "      <td>2228</td>\n",
       "      <td>28845</td>\n",
       "      <td>28845</td>\n",
       "    </tr>\n",
       "    <tr>\n",
       "      <th>ESCC</th>\n",
       "      <td>86</td>\n",
       "      <td>[50, 36]</td>\n",
       "      <td>[\"N:METH\", \"N:GEXP\", \"B:MUTA\", \"N:MIR\", \"I:CNVR\"]</td>\n",
       "      <td>19076</td>\n",
       "      <td>743</td>\n",
       "      <td>10350</td>\n",
       "      <td>13833</td>\n",
       "      <td>2228</td>\n",
       "      <td>46230</td>\n",
       "      <td>46230</td>\n",
       "    </tr>\n",
       "    <tr>\n",
       "      <th>GEA</th>\n",
       "      <td>461</td>\n",
       "      <td>[192, 80, 48, 45, 36, 30, 30]</td>\n",
       "      <td>[\"N:METH\", \"N:GEXP\", \"B:MUTA\", \"N:MIR\", \"I:CNVR\"]</td>\n",
       "      <td>17691</td>\n",
       "      <td>743</td>\n",
       "      <td>1512</td>\n",
       "      <td>13833</td>\n",
       "      <td>2228</td>\n",
       "      <td>36007</td>\n",
       "      <td>36007</td>\n",
       "    </tr>\n",
       "    <tr>\n",
       "      <th>HNSC</th>\n",
       "      <td>506</td>\n",
       "      <td>[145, 134, 82, 75, 70]</td>\n",
       "      <td>[\"N:METH\", \"N:GEXP\", \"B:MUTA\", \"N:MIR\", \"I:CNVR\"]</td>\n",
       "      <td>20531</td>\n",
       "      <td>743</td>\n",
       "      <td>12619</td>\n",
       "      <td>8127</td>\n",
       "      <td>2228</td>\n",
       "      <td>44248</td>\n",
       "      <td>44248</td>\n",
       "    </tr>\n",
       "    <tr>\n",
       "      <th>KIRCKICH</th>\n",
       "      <td>556</td>\n",
       "      <td>[491, 65]</td>\n",
       "      <td>[\"N:METH\", \"N:GEXP\", \"B:MUTA\", \"I:CNVR\"]</td>\n",
       "      <td>20531</td>\n",
       "      <td>0</td>\n",
       "      <td>238</td>\n",
       "      <td>3954</td>\n",
       "      <td>2228</td>\n",
       "      <td>26951</td>\n",
       "      <td>26951</td>\n",
       "    </tr>\n",
       "    <tr>\n",
       "      <th>KIRP</th>\n",
       "      <td>155</td>\n",
       "      <td>[93, 32, 21, 9]</td>\n",
       "      <td>[\"N:METH\", \"N:GEXP\", \"B:MUTA\", \"N:MIR\", \"I:CNVR\"]</td>\n",
       "      <td>20531</td>\n",
       "      <td>743</td>\n",
       "      <td>811</td>\n",
       "      <td>2260</td>\n",
       "      <td>2228</td>\n",
       "      <td>26573</td>\n",
       "      <td>26573</td>\n",
       "    </tr>\n",
       "    <tr>\n",
       "      <th>LGGGBM</th>\n",
       "      <td>782</td>\n",
       "      <td>[222, 196, 155, 130, 37, 22, 20]</td>\n",
       "      <td>[\"N:METH\", \"N:GEXP\", \"B:MUTA\", \"I:CNVR\"]</td>\n",
       "      <td>12717</td>\n",
       "      <td>0</td>\n",
       "      <td>1043</td>\n",
       "      <td>12217</td>\n",
       "      <td>2228</td>\n",
       "      <td>28205</td>\n",
       "      <td>28205</td>\n",
       "    </tr>\n",
       "    <tr>\n",
       "      <th>LIHCCHOL</th>\n",
       "      <td>378</td>\n",
       "      <td>[89, 76, 74, 70, 69]</td>\n",
       "      <td>[\"N:METH\", \"N:GEXP\", \"B:MUTA\", \"I:CNVR\"]</td>\n",
       "      <td>20531</td>\n",
       "      <td>0</td>\n",
       "      <td>16495</td>\n",
       "      <td>10243</td>\n",
       "      <td>2228</td>\n",
       "      <td>49497</td>\n",
       "      <td>49497</td>\n",
       "    </tr>\n",
       "    <tr>\n",
       "      <th>LUAD</th>\n",
       "      <td>500</td>\n",
       "      <td>[174, 143, 104, 43, 36]</td>\n",
       "      <td>[\"N:METH\", \"N:GEXP\", \"B:MUTA\", \"N:MIR\", \"I:CNVR\"]</td>\n",
       "      <td>20531</td>\n",
       "      <td>743</td>\n",
       "      <td>506</td>\n",
       "      <td>9880</td>\n",
       "      <td>2228</td>\n",
       "      <td>33888</td>\n",
       "      <td>33888</td>\n",
       "    </tr>\n",
       "    <tr>\n",
       "      <th>LUSC</th>\n",
       "      <td>460</td>\n",
       "      <td>[122, 119, 87, 44, 44, 44]</td>\n",
       "      <td>[\"N:METH\", \"N:GEXP\", \"B:MUTA\", \"N:MIR\", \"I:CNVR\"]</td>\n",
       "      <td>20531</td>\n",
       "      <td>743</td>\n",
       "      <td>297</td>\n",
       "      <td>9734</td>\n",
       "      <td>2228</td>\n",
       "      <td>33533</td>\n",
       "      <td>33533</td>\n",
       "    </tr>\n",
       "    <tr>\n",
       "      <th>MESO</th>\n",
       "      <td>74</td>\n",
       "      <td>[20, 20, 19, 15]</td>\n",
       "      <td>[\"N:METH\", \"N:GEXP\", \"B:MUTA\", \"N:MIR\", \"I:CNVR\"]</td>\n",
       "      <td>20531</td>\n",
       "      <td>743</td>\n",
       "      <td>6573</td>\n",
       "      <td>2761</td>\n",
       "      <td>2228</td>\n",
       "      <td>32836</td>\n",
       "      <td>32836</td>\n",
       "    </tr>\n",
       "    <tr>\n",
       "      <th>OV</th>\n",
       "      <td>285</td>\n",
       "      <td>[79, 74, 69, 63]</td>\n",
       "      <td>[\"N:METH\", \"N:GEXP\", \"B:MUTA\", \"N:MIR\", \"I:CNVR\"]</td>\n",
       "      <td>17691</td>\n",
       "      <td>743</td>\n",
       "      <td>258</td>\n",
       "      <td>16116</td>\n",
       "      <td>2228</td>\n",
       "      <td>37036</td>\n",
       "      <td>37036</td>\n",
       "    </tr>\n",
       "    <tr>\n",
       "      <th>PAAD</th>\n",
       "      <td>76</td>\n",
       "      <td>[53, 23]</td>\n",
       "      <td>[\"N:METH\", \"N:GEXP\", \"B:MUTA\", \"N:MIR\", \"I:CNVR\"]</td>\n",
       "      <td>20531</td>\n",
       "      <td>743</td>\n",
       "      <td>9823</td>\n",
       "      <td>3242</td>\n",
       "      <td>2228</td>\n",
       "      <td>36567</td>\n",
       "      <td>36567</td>\n",
       "    </tr>\n",
       "    <tr>\n",
       "      <th>PCPG</th>\n",
       "      <td>159</td>\n",
       "      <td>[62, 54, 22, 21]</td>\n",
       "      <td>[\"N:METH\", \"N:GEXP\", \"B:MUTA\", \"N:MIR\", \"I:CNVR\"]</td>\n",
       "      <td>20531</td>\n",
       "      <td>743</td>\n",
       "      <td>6421</td>\n",
       "      <td>2598</td>\n",
       "      <td>2228</td>\n",
       "      <td>32521</td>\n",
       "      <td>32521</td>\n",
       "    </tr>\n",
       "    <tr>\n",
       "      <th>PRAD</th>\n",
       "      <td>273</td>\n",
       "      <td>[151, 85, 37]</td>\n",
       "      <td>[\"N:METH\", \"N:GEXP\", \"B:MUTA\", \"N:MIR\", \"I:CNVR\"]</td>\n",
       "      <td>19088</td>\n",
       "      <td>743</td>\n",
       "      <td>7443</td>\n",
       "      <td>10297</td>\n",
       "      <td>2228</td>\n",
       "      <td>39799</td>\n",
       "      <td>39799</td>\n",
       "    </tr>\n",
       "    <tr>\n",
       "      <th>SARC</th>\n",
       "      <td>191</td>\n",
       "      <td>[80, 61, 50]</td>\n",
       "      <td>[\"N:METH\", \"N:GEXP\", \"B:MUTA\", \"N:MIR\", \"I:CNVR\"]</td>\n",
       "      <td>20531</td>\n",
       "      <td>743</td>\n",
       "      <td>12750</td>\n",
       "      <td>10543</td>\n",
       "      <td>2228</td>\n",
       "      <td>46795</td>\n",
       "      <td>46795</td>\n",
       "    </tr>\n",
       "    <tr>\n",
       "      <th>SKCM</th>\n",
       "      <td>444</td>\n",
       "      <td>[202, 118, 78, 46]</td>\n",
       "      <td>[\"N:METH\", \"N:GEXP\", \"B:MUTA\", \"N:MIR\", \"I:CNVR\"]</td>\n",
       "      <td>20531</td>\n",
       "      <td>743</td>\n",
       "      <td>15822</td>\n",
       "      <td>8813</td>\n",
       "      <td>2228</td>\n",
       "      <td>48137</td>\n",
       "      <td>48137</td>\n",
       "    </tr>\n",
       "    <tr>\n",
       "      <th>TGCT</th>\n",
       "      <td>133</td>\n",
       "      <td>[71, 62]</td>\n",
       "      <td>[\"N:METH\", \"N:GEXP\", \"B:MUTA\", \"N:MIR\", \"I:CNVR\"]</td>\n",
       "      <td>20531</td>\n",
       "      <td>743</td>\n",
       "      <td>3945</td>\n",
       "      <td>2391</td>\n",
       "      <td>2228</td>\n",
       "      <td>29838</td>\n",
       "      <td>29838</td>\n",
       "    </tr>\n",
       "    <tr>\n",
       "      <th>THCA</th>\n",
       "      <td>486</td>\n",
       "      <td>[248, 189, 49]</td>\n",
       "      <td>[\"N:METH\", \"N:GEXP\", \"B:MUTA\", \"N:MIR\", \"I:CNVR\"]</td>\n",
       "      <td>20531</td>\n",
       "      <td>743</td>\n",
       "      <td>3048</td>\n",
       "      <td>1587</td>\n",
       "      <td>2228</td>\n",
       "      <td>28137</td>\n",
       "      <td>28137</td>\n",
       "    </tr>\n",
       "    <tr>\n",
       "      <th>THYM</th>\n",
       "      <td>117</td>\n",
       "      <td>[46, 36, 21, 14]</td>\n",
       "      <td>[\"N:METH\", \"N:GEXP\", \"B:MUTA\", \"N:MIR\", \"I:CNVR\"]</td>\n",
       "      <td>20531</td>\n",
       "      <td>743</td>\n",
       "      <td>3061</td>\n",
       "      <td>1305</td>\n",
       "      <td>2228</td>\n",
       "      <td>27868</td>\n",
       "      <td>27868</td>\n",
       "    </tr>\n",
       "    <tr>\n",
       "      <th>UCEC</th>\n",
       "      <td>499</td>\n",
       "      <td>[155, 143, 123, 78]</td>\n",
       "      <td>[\"N:METH\", \"N:GEXP\", \"B:MUTA\", \"N:MIR\", \"I:CNVR\"]</td>\n",
       "      <td>17507</td>\n",
       "      <td>743</td>\n",
       "      <td>427</td>\n",
       "      <td>11578</td>\n",
       "      <td>2228</td>\n",
       "      <td>32483</td>\n",
       "      <td>32483</td>\n",
       "    </tr>\n",
       "    <tr>\n",
       "      <th>UVM</th>\n",
       "      <td>74</td>\n",
       "      <td>[22, 21, 18, 13]</td>\n",
       "      <td>[\"N:METH\", \"N:GEXP\", \"B:MUTA\", \"N:MIR\", \"I:CNVR\"]</td>\n",
       "      <td>20531</td>\n",
       "      <td>743</td>\n",
       "      <td>2333</td>\n",
       "      <td>1149</td>\n",
       "      <td>2228</td>\n",
       "      <td>26984</td>\n",
       "      <td>26984</td>\n",
       "    </tr>\n",
       "  </tbody>\n",
       "</table>\n",
       "</div>"
      ],
      "text/plain": [
       "          sample_count                    subtype_counts  \\\n",
       "ACC                 76                      [33, 24, 19]   \n",
       "BLCA               399         [148, 126, 53, 45, 21, 6]   \n",
       "BRCA               995               [535, 205, 175, 80]   \n",
       "CESC               177                      [85, 50, 42]   \n",
       "COADREAD           449        [181, 133, 55, 40, 23, 17]   \n",
       "ESCC                86                          [50, 36]   \n",
       "GEA                461     [192, 80, 48, 45, 36, 30, 30]   \n",
       "HNSC               506            [145, 134, 82, 75, 70]   \n",
       "KIRCKICH           556                         [491, 65]   \n",
       "KIRP               155                   [93, 32, 21, 9]   \n",
       "LGGGBM             782  [222, 196, 155, 130, 37, 22, 20]   \n",
       "LIHCCHOL           378              [89, 76, 74, 70, 69]   \n",
       "LUAD               500           [174, 143, 104, 43, 36]   \n",
       "LUSC               460        [122, 119, 87, 44, 44, 44]   \n",
       "MESO                74                  [20, 20, 19, 15]   \n",
       "OV                 285                  [79, 74, 69, 63]   \n",
       "PAAD                76                          [53, 23]   \n",
       "PCPG               159                  [62, 54, 22, 21]   \n",
       "PRAD               273                     [151, 85, 37]   \n",
       "SARC               191                      [80, 61, 50]   \n",
       "SKCM               444                [202, 118, 78, 46]   \n",
       "TGCT               133                          [71, 62]   \n",
       "THCA               486                    [248, 189, 49]   \n",
       "THYM               117                  [46, 36, 21, 14]   \n",
       "UCEC               499               [155, 143, 123, 78]   \n",
       "UVM                 74                  [22, 21, 18, 13]   \n",
       "\n",
       "                                                 type_modes  N:GEXP  N:MIR  \\\n",
       "ACC       [\"N:METH\", \"N:GEXP\", \"B:MUTA\", \"N:MIR\", \"I:CNVR\"]   20531    743   \n",
       "BLCA      [\"N:METH\", \"N:GEXP\", \"B:MUTA\", \"N:MIR\", \"I:CNVR\"]   20531    743   \n",
       "BRCA      [\"N:METH\", \"N:GEXP\", \"B:MUTA\", \"N:MIR\", \"I:CNVR\"]   20531    743   \n",
       "CESC      [\"N:METH\", \"N:GEXP\", \"B:MUTA\", \"N:MIR\", \"I:CNVR\"]   20531    743   \n",
       "COADREAD  [\"N:METH\", \"N:GEXP\", \"B:MUTA\", \"N:MIR\", \"I:CNVR\"]   17507    743   \n",
       "ESCC      [\"N:METH\", \"N:GEXP\", \"B:MUTA\", \"N:MIR\", \"I:CNVR\"]   19076    743   \n",
       "GEA       [\"N:METH\", \"N:GEXP\", \"B:MUTA\", \"N:MIR\", \"I:CNVR\"]   17691    743   \n",
       "HNSC      [\"N:METH\", \"N:GEXP\", \"B:MUTA\", \"N:MIR\", \"I:CNVR\"]   20531    743   \n",
       "KIRCKICH           [\"N:METH\", \"N:GEXP\", \"B:MUTA\", \"I:CNVR\"]   20531      0   \n",
       "KIRP      [\"N:METH\", \"N:GEXP\", \"B:MUTA\", \"N:MIR\", \"I:CNVR\"]   20531    743   \n",
       "LGGGBM             [\"N:METH\", \"N:GEXP\", \"B:MUTA\", \"I:CNVR\"]   12717      0   \n",
       "LIHCCHOL           [\"N:METH\", \"N:GEXP\", \"B:MUTA\", \"I:CNVR\"]   20531      0   \n",
       "LUAD      [\"N:METH\", \"N:GEXP\", \"B:MUTA\", \"N:MIR\", \"I:CNVR\"]   20531    743   \n",
       "LUSC      [\"N:METH\", \"N:GEXP\", \"B:MUTA\", \"N:MIR\", \"I:CNVR\"]   20531    743   \n",
       "MESO      [\"N:METH\", \"N:GEXP\", \"B:MUTA\", \"N:MIR\", \"I:CNVR\"]   20531    743   \n",
       "OV        [\"N:METH\", \"N:GEXP\", \"B:MUTA\", \"N:MIR\", \"I:CNVR\"]   17691    743   \n",
       "PAAD      [\"N:METH\", \"N:GEXP\", \"B:MUTA\", \"N:MIR\", \"I:CNVR\"]   20531    743   \n",
       "PCPG      [\"N:METH\", \"N:GEXP\", \"B:MUTA\", \"N:MIR\", \"I:CNVR\"]   20531    743   \n",
       "PRAD      [\"N:METH\", \"N:GEXP\", \"B:MUTA\", \"N:MIR\", \"I:CNVR\"]   19088    743   \n",
       "SARC      [\"N:METH\", \"N:GEXP\", \"B:MUTA\", \"N:MIR\", \"I:CNVR\"]   20531    743   \n",
       "SKCM      [\"N:METH\", \"N:GEXP\", \"B:MUTA\", \"N:MIR\", \"I:CNVR\"]   20531    743   \n",
       "TGCT      [\"N:METH\", \"N:GEXP\", \"B:MUTA\", \"N:MIR\", \"I:CNVR\"]   20531    743   \n",
       "THCA      [\"N:METH\", \"N:GEXP\", \"B:MUTA\", \"N:MIR\", \"I:CNVR\"]   20531    743   \n",
       "THYM      [\"N:METH\", \"N:GEXP\", \"B:MUTA\", \"N:MIR\", \"I:CNVR\"]   20531    743   \n",
       "UCEC      [\"N:METH\", \"N:GEXP\", \"B:MUTA\", \"N:MIR\", \"I:CNVR\"]   17507    743   \n",
       "UVM       [\"N:METH\", \"N:GEXP\", \"B:MUTA\", \"N:MIR\", \"I:CNVR\"]   20531    743   \n",
       "\n",
       "          N:METH  I:CNVR  B:MUTA  total_features  feature_check  \n",
       "ACC        14665    3382    2228           41549          41549  \n",
       "BLCA       11530   10210    2228           45242          45242  \n",
       "BRCA         657   15802    2228           39961          39961  \n",
       "CESC       17003    5833    2228           46338          46338  \n",
       "COADREAD     734    7633    2228           28845          28845  \n",
       "ESCC       10350   13833    2228           46230          46230  \n",
       "GEA         1512   13833    2228           36007          36007  \n",
       "HNSC       12619    8127    2228           44248          44248  \n",
       "KIRCKICH     238    3954    2228           26951          26951  \n",
       "KIRP         811    2260    2228           26573          26573  \n",
       "LGGGBM      1043   12217    2228           28205          28205  \n",
       "LIHCCHOL   16495   10243    2228           49497          49497  \n",
       "LUAD         506    9880    2228           33888          33888  \n",
       "LUSC         297    9734    2228           33533          33533  \n",
       "MESO        6573    2761    2228           32836          32836  \n",
       "OV           258   16116    2228           37036          37036  \n",
       "PAAD        9823    3242    2228           36567          36567  \n",
       "PCPG        6421    2598    2228           32521          32521  \n",
       "PRAD        7443   10297    2228           39799          39799  \n",
       "SARC       12750   10543    2228           46795          46795  \n",
       "SKCM       15822    8813    2228           48137          48137  \n",
       "TGCT        3945    2391    2228           29838          29838  \n",
       "THCA        3048    1587    2228           28137          28137  \n",
       "THYM        3061    1305    2228           27868          27868  \n",
       "UCEC         427   11578    2228           32483          32483  \n",
       "UVM         2333    1149    2228           26984          26984  "
      ]
     },
     "execution_count": 6,
     "metadata": {},
     "output_type": "execute_result"
    }
   ],
   "source": [
    "data_stats_frame"
   ]
  },
  {
   "cell_type": "code",
   "execution_count": 7,
   "id": "2a1bb395-7932-411f-b31e-dbda4ff2b608",
   "metadata": {},
   "outputs": [],
   "source": [
    "data_stats_frame.to_csv('i_o/data_stats_frame.tsv', sep = '\\t')"
   ]
  },
  {
   "cell_type": "code",
   "execution_count": 11,
   "id": "d2d1fab4-c9b6-4b3d-a187-658ef15c180b",
   "metadata": {},
   "outputs": [
    {
     "data": {
      "text/plain": [
       "'/Users/karlberb/Documents/work/sample_count/synthetic_TCGA_data_gen/h_production'"
      ]
     },
     "execution_count": 11,
     "metadata": {},
     "output_type": "execute_result"
    }
   ],
   "source": [
    "pwd"
   ]
  },
  {
   "cell_type": "code",
   "execution_count": 10,
   "id": "c3545b6e-2a66-498d-b260-78f80c18f42a",
   "metadata": {},
   "outputs": [
    {
     "name": "stdout",
     "output_type": "stream",
     "text": [
      "ACC_N:GEXP.tsv       KIRP_N:GEXP.tsv      PRAD_N:GEXP.tsv\n",
      "BLCA_N:GEXP.tsv      LGGGBM_N:GEXP.tsv    SARC_N:GEXP.tsv\n",
      "BRCA_N:GEXP.tsv      LIHCCHOL_N:GEXP.tsv  SKCM_N:GEXP.tsv\n",
      "CESC_N:GEXP.tsv      LUAD_N:GEXP.tsv      TGCT_N:GEXP.tsv\n",
      "COADREAD_N:GEXP.tsv  LUSC_N:GEXP.tsv      THCA_N:GEXP.tsv\n",
      "ESCC_N:GEXP.tsv      MESO_N:GEXP.tsv      THYM_N:GEXP.tsv\n",
      "GEA_N:GEXP.tsv       OV_N:GEXP.tsv        UCEC_N:GEXP.tsv\n",
      "HNSC_N:GEXP.tsv      PAAD_N:GEXP.tsv      UVM_N:GEXP.tsv\n",
      "KIRCKICH_N:GEXP.tsv  PCPG_N:GEXP.tsv\n"
     ]
    }
   ],
   "source": [
    "ls i_o/gene_expression_features/"
   ]
  },
  {
   "cell_type": "code",
   "execution_count": 12,
   "id": "61c37d93-b434-417d-b234-40714e69b7b7",
   "metadata": {},
   "outputs": [],
   "source": [
    "all_features = []\n",
    "for gexp_path in sorted(glob.glob('i_o/gene_expression_features/*.tsv')):\n",
    "    gexp_file = pd.read_csv(gexp_path, sep = '\\t', index_col = 0)\n",
    "    all_features.append(gexp_file.columns[1:])\n",
    "intrsct = set.intersection(*map(set, all_features))    "
   ]
  },
  {
   "cell_type": "code",
   "execution_count": 14,
   "id": "29c57304-f41a-499d-a639-8cb5dce88317",
   "metadata": {},
   "outputs": [
    {
     "data": {
      "text/plain": [
       "12339"
      ]
     },
     "execution_count": 14,
     "metadata": {},
     "output_type": "execute_result"
    }
   ],
   "source": [
    "len(intrsct)"
   ]
  },
  {
   "cell_type": "code",
   "execution_count": null,
   "id": "adf27e62-cf8b-44b4-9ced-ad74a192e70d",
   "metadata": {},
   "outputs": [],
   "source": [
    "# ^ to manuscript companion notes\n",
    "# write to gexp_intersection_12k"
   ]
  },
  {
   "cell_type": "code",
   "execution_count": null,
   "id": "4b2a0133-8c4a-42e2-8c2f-99bc4af08b23",
   "metadata": {},
   "outputs": [],
   "source": [
    "# To both 12k and 17k functions - wrong\n",
    "ntrsct_list = list(intrsct)\n",
    "lbld_ntrsct_list = ['Labels'] + ntrsct_list"
   ]
  },
  {
   "cell_type": "code",
   "execution_count": 28,
   "id": "529b1c82-4e79-41c6-bae2-ecd3e2b11576",
   "metadata": {},
   "outputs": [],
   "source": [
    "for gexp_path in sorted(glob.glob('i_o/gene_expression_features/*.tsv')):\n",
    "    gexp_file = pd.read_csv(gexp_path, sep = '\\t', index_col = 0)\n",
    "    intrsct_gexp_file = gexp_file.loc[:, lbld_ntrsct_list]\n",
    "    intrsct_gexp_file.to_csv('i_o/gexp_intersection_12k/' +\n",
    "                gexp_file.index.name + '_12k_gexp.tsv', sep = '\\t')   "
   ]
  },
  {
   "cell_type": "code",
   "execution_count": 31,
   "id": "eb280a58-ab9f-44b8-b1f8-bec34d5e7a53",
   "metadata": {},
   "outputs": [
    {
     "data": {
      "text/plain": [
       "(74, 12340)"
      ]
     },
     "execution_count": 31,
     "metadata": {},
     "output_type": "execute_result"
    }
   ],
   "source": [
    "intrsct_gexp_file.shape # Check, 12339 features plus a label column"
   ]
  },
  {
   "cell_type": "code",
   "execution_count": null,
   "id": "a3fe1bb5-6dae-436c-839a-0a6b2c0b22b5",
   "metadata": {},
   "outputs": [],
   "source": [
    "# End the LG inclusive 12k intersection write"
   ]
  },
  {
   "cell_type": "code",
   "execution_count": null,
   "id": "2993a06e-597c-4e47-b398-e8c9c87c0377",
   "metadata": {},
   "outputs": [],
   "source": [
    "# note: this is still just intersection \n",
    "    # the norming happens later with 5k"
   ]
  },
  {
   "cell_type": "code",
   "execution_count": null,
   "id": "3cf95a55-1f9b-43f6-beed-85d386815520",
   "metadata": {},
   "outputs": [],
   "source": [
    "# Now cut LG to get the feat olap up to 17k"
   ]
  },
  {
   "cell_type": "code",
   "execution_count": 39,
   "id": "b0fed929-2a59-4f4e-9fd7-462f62785309",
   "metadata": {},
   "outputs": [],
   "source": [
    "n26 = sorted(glob.glob('i_o/gene_expression_features/*.tsv'))"
   ]
  },
  {
   "cell_type": "code",
   "execution_count": 40,
   "id": "4199aab7-9163-46c2-92d1-673fc9b090c3",
   "metadata": {},
   "outputs": [
    {
     "data": {
      "text/plain": [
       "'i_o/gene_expression_features/LGGGBM_N:GEXP.tsv'"
      ]
     },
     "execution_count": 40,
     "metadata": {},
     "output_type": "execute_result"
    }
   ],
   "source": [
    "n26[10]"
   ]
  },
  {
   "cell_type": "code",
   "execution_count": 41,
   "id": "0a96d3f7-b439-4733-aad4-f524e95a6251",
   "metadata": {},
   "outputs": [],
   "source": [
    "n26.remove('i_o/gene_expression_features/LGGGBM_N:GEXP.tsv')"
   ]
  },
  {
   "cell_type": "code",
   "execution_count": 42,
   "id": "240a9e18-4afb-4ce8-bcb9-94242f0cf4fd",
   "metadata": {},
   "outputs": [],
   "source": [
    "all_features = []\n",
    "for gexp_path in n26:\n",
    "    gexp_file = pd.read_csv(gexp_path, sep = '\\t', index_col = 0)\n",
    "    all_features.append(gexp_file.columns[1:])\n",
    "intrsct = set.intersection(*map(set, all_features))\n",
    "ntrsct_list = list(intrsct)\n",
    "lbld_ntrsct_list = ['Labels'] + ntrsct_list"
   ]
  },
  {
   "cell_type": "code",
   "execution_count": 43,
   "id": "d6091d15-f8bb-4aa4-a400-911c5ea365fb",
   "metadata": {},
   "outputs": [],
   "source": [
    "for gexp_path in n26:\n",
    "    gexp_file = pd.read_csv(gexp_path, sep = '\\t', index_col = 0)\n",
    "    intrsct_gexp_file = gexp_file.loc[:, lbld_ntrsct_list]\n",
    "    intrsct_gexp_file.to_csv('i_o/gexp_intersection_no_LG_17k/' +\n",
    "                gexp_file.index.name + '_17k_gexp.tsv', sep = '\\t') "
   ]
  },
  {
   "cell_type": "code",
   "execution_count": 45,
   "id": "07e3b3c9-85a6-43fc-b321-5c29ad1ec4b1",
   "metadata": {},
   "outputs": [
    {
     "data": {
      "text/plain": [
       "17176"
      ]
     },
     "execution_count": 45,
     "metadata": {},
     "output_type": "execute_result"
    }
   ],
   "source": [
    "len(ntrsct_list)"
   ]
  },
  {
   "cell_type": "code",
   "execution_count": 44,
   "id": "66619256-0d18-4154-ac84-0429fed056c7",
   "metadata": {},
   "outputs": [
    {
     "data": {
      "text/plain": [
       "(74, 17177)"
      ]
     },
     "execution_count": 44,
     "metadata": {},
     "output_type": "execute_result"
    }
   ],
   "source": [
    "intrsct_gexp_file.shape"
   ]
  },
  {
   "cell_type": "code",
   "execution_count": null,
   "id": "d167234e-f579-4d5b-8eed-b86a4a336558",
   "metadata": {},
   "outputs": [],
   "source": [
    "# End intersections"
   ]
  },
  {
   "cell_type": "code",
   "execution_count": null,
   "id": "7cf021df-fa6e-4ce3-8ae9-8fb227d6a4c5",
   "metadata": {},
   "outputs": [],
   "source": [
    "# Start MAD5k and norming\n",
    "# Switching to bx_crv_itr4.ipynb template"
   ]
  },
  {
   "cell_type": "code",
   "execution_count": 46,
   "id": "ba94497b-4b2d-4ce7-9031-12a87224a047",
   "metadata": {},
   "outputs": [
    {
     "name": "stdout",
     "output_type": "stream",
     "text": [
      "i_o/gexp_intersection_no_LG_17k/ACC_17k_gexp.tsv\n",
      "i_o/gexp_intersection_no_LG_17k/BLCA_17k_gexp.tsv\n",
      "i_o/gexp_intersection_no_LG_17k/BRCA_17k_gexp.tsv\n",
      "i_o/gexp_intersection_no_LG_17k/CESC_17k_gexp.tsv\n",
      "i_o/gexp_intersection_no_LG_17k/COADREAD_17k_gexp.tsv\n",
      "i_o/gexp_intersection_no_LG_17k/ESCC_17k_gexp.tsv\n",
      "i_o/gexp_intersection_no_LG_17k/GEA_17k_gexp.tsv\n",
      "i_o/gexp_intersection_no_LG_17k/HNSC_17k_gexp.tsv\n",
      "i_o/gexp_intersection_no_LG_17k/KIRCKICH_17k_gexp.tsv\n",
      "i_o/gexp_intersection_no_LG_17k/KIRP_17k_gexp.tsv\n",
      "i_o/gexp_intersection_no_LG_17k/LIHCCHOL_17k_gexp.tsv\n",
      "i_o/gexp_intersection_no_LG_17k/LUAD_17k_gexp.tsv\n",
      "i_o/gexp_intersection_no_LG_17k/LUSC_17k_gexp.tsv\n",
      "i_o/gexp_intersection_no_LG_17k/MESO_17k_gexp.tsv\n",
      "i_o/gexp_intersection_no_LG_17k/OV_17k_gexp.tsv\n",
      "i_o/gexp_intersection_no_LG_17k/PAAD_17k_gexp.tsv\n",
      "i_o/gexp_intersection_no_LG_17k/PCPG_17k_gexp.tsv\n",
      "i_o/gexp_intersection_no_LG_17k/PRAD_17k_gexp.tsv\n",
      "i_o/gexp_intersection_no_LG_17k/SARC_17k_gexp.tsv\n",
      "i_o/gexp_intersection_no_LG_17k/SKCM_17k_gexp.tsv\n",
      "i_o/gexp_intersection_no_LG_17k/TGCT_17k_gexp.tsv\n",
      "i_o/gexp_intersection_no_LG_17k/THCA_17k_gexp.tsv\n",
      "i_o/gexp_intersection_no_LG_17k/THYM_17k_gexp.tsv\n",
      "i_o/gexp_intersection_no_LG_17k/UCEC_17k_gexp.tsv\n",
      "i_o/gexp_intersection_no_LG_17k/UVM_17k_gexp.tsv\n"
     ]
    }
   ],
   "source": [
    "k = 5000\n",
    "stack = pd.DataFrame()\n",
    "for ntrsct_pth in sorted(glob.glob('i_o/gexp_intersection_no_LG_17k/*.tsv')):\n",
    "    print(ntrsct_pth)\n",
    "    file = pd.read_csv(ntrsct_pth, sep = '\\t', index_col = 0)\n",
    "    stack = pd.concat( [stack, file] , axis = 0)\n",
    "features = (stack.iloc[:, 1:] - stack.iloc[:, 1:].mean()).abs().mean().sort_values(ascending=False)[:k].index\n",
    "stack = pd.concat( [pd.DataFrame(stack.Labels), stack.loc[:, features]] ,\n",
    "                     axis = 1)"
   ]
  },
  {
   "cell_type": "code",
   "execution_count": 47,
   "id": "59ec1485-b81b-47e2-835d-2ba81c748ba9",
   "metadata": {},
   "outputs": [
    {
     "name": "stdout",
     "output_type": "stream",
     "text": [
      "ACC\n",
      "BLCA\n",
      "BRCA\n",
      "CESC\n",
      "COADREAD\n",
      "ESCC\n",
      "GEA\n",
      "HNSC\n",
      "KIRCKICH\n",
      "KIRP\n",
      "LIHCCHOL\n",
      "LUAD\n",
      "LUSC\n",
      "MESO\n",
      "OV\n",
      "PAAD\n",
      "PCPG\n",
      "PRAD\n",
      "SARC\n",
      "SKCM\n",
      "TGCT\n",
      "THCA\n",
      "THYM\n",
      "UCEC\n",
      "UVM\n"
     ]
    }
   ],
   "source": [
    "# norm within each primary\n",
    "for c in stack.Labels.str.split('_').str[0].unique():\n",
    "    print(c)\n",
    "    primary_subset = stack[stack.Labels.str.contains(c)]\n",
    "    max_col_vals = primary_subset.iloc[:, 1:].max()\n",
    "    X_train = (primary_subset.iloc[:, 1:] / max_col_vals)\n",
    "    X_labeled = pd.concat( [pd.DataFrame(primary_subset.Labels), X_train] ,\n",
    "                     axis = 1)\n",
    "    X_labeled.index.name = c\n",
    "    X_labeled.to_csv('i_o/features_17k_to_5k/'+c+'_from_17k_to_5k.tsv',\n",
    "                   sep = '\\t')"
   ]
  },
  {
   "cell_type": "code",
   "execution_count": null,
   "id": "e50f687e-dc0f-4b68-aa93-f33d317c489f",
   "metadata": {},
   "outputs": [],
   "source": [
    "# end 17k MAD and norm; LG cut up front at the intersection zone"
   ]
  },
  {
   "cell_type": "code",
   "execution_count": null,
   "id": "7b4669d1-9fc3-48ff-84a2-b5ddb9e0a069",
   "metadata": {},
   "outputs": [],
   "source": [
    "# starting two 12k blocks"
   ]
  },
  {
   "cell_type": "code",
   "execution_count": 49,
   "id": "1082cab4-8a3b-417d-a061-fa6c798123cf",
   "metadata": {},
   "outputs": [],
   "source": [
    "path_check = sorted(glob.glob('i_o/gexp_intersection_12k/*.tsv'))"
   ]
  },
  {
   "cell_type": "code",
   "execution_count": 50,
   "id": "a6d73409-80b4-42df-8cc8-f138d378c1fe",
   "metadata": {},
   "outputs": [
    {
     "data": {
      "text/plain": [
       "26"
      ]
     },
     "execution_count": 50,
     "metadata": {},
     "output_type": "execute_result"
    }
   ],
   "source": [
    "len(path_check)"
   ]
  },
  {
   "cell_type": "code",
   "execution_count": 51,
   "id": "f438996a-23f1-4058-9b70-ad2d9271443b",
   "metadata": {},
   "outputs": [
    {
     "name": "stdout",
     "output_type": "stream",
     "text": [
      "i_o/gexp_intersection_12k/ACC_12k_gexp.tsv\n",
      "i_o/gexp_intersection_12k/BLCA_12k_gexp.tsv\n",
      "i_o/gexp_intersection_12k/BRCA_12k_gexp.tsv\n",
      "i_o/gexp_intersection_12k/CESC_12k_gexp.tsv\n",
      "i_o/gexp_intersection_12k/COADREAD_12k_gexp.tsv\n",
      "i_o/gexp_intersection_12k/ESCC_12k_gexp.tsv\n",
      "i_o/gexp_intersection_12k/GEA_12k_gexp.tsv\n",
      "i_o/gexp_intersection_12k/HNSC_12k_gexp.tsv\n",
      "i_o/gexp_intersection_12k/KIRCKICH_12k_gexp.tsv\n",
      "i_o/gexp_intersection_12k/KIRP_12k_gexp.tsv\n",
      "i_o/gexp_intersection_12k/LGGGBM_12k_gexp.tsv\n",
      "i_o/gexp_intersection_12k/LIHCCHOL_12k_gexp.tsv\n",
      "i_o/gexp_intersection_12k/LUAD_12k_gexp.tsv\n",
      "i_o/gexp_intersection_12k/LUSC_12k_gexp.tsv\n",
      "i_o/gexp_intersection_12k/MESO_12k_gexp.tsv\n",
      "i_o/gexp_intersection_12k/OV_12k_gexp.tsv\n",
      "i_o/gexp_intersection_12k/PAAD_12k_gexp.tsv\n",
      "i_o/gexp_intersection_12k/PCPG_12k_gexp.tsv\n",
      "i_o/gexp_intersection_12k/PRAD_12k_gexp.tsv\n",
      "i_o/gexp_intersection_12k/SARC_12k_gexp.tsv\n",
      "i_o/gexp_intersection_12k/SKCM_12k_gexp.tsv\n",
      "i_o/gexp_intersection_12k/TGCT_12k_gexp.tsv\n",
      "i_o/gexp_intersection_12k/THCA_12k_gexp.tsv\n",
      "i_o/gexp_intersection_12k/THYM_12k_gexp.tsv\n",
      "i_o/gexp_intersection_12k/UCEC_12k_gexp.tsv\n",
      "i_o/gexp_intersection_12k/UVM_12k_gexp.tsv\n"
     ]
    }
   ],
   "source": [
    "k = 5000\n",
    "stack = pd.DataFrame()\n",
    "for ntrsct_pth in sorted(glob.glob('i_o/gexp_intersection_12k/*.tsv')):\n",
    "    print(ntrsct_pth)\n",
    "    file = pd.read_csv(ntrsct_pth, sep = '\\t', index_col = 0)\n",
    "    stack = pd.concat( [stack, file] , axis = 0)\n",
    "features = (stack.iloc[:, 1:] - stack.iloc[:, 1:].mean()).abs().mean().sort_values(ascending=False)[:k].index\n",
    "stack = pd.concat( [pd.DataFrame(stack.Labels), stack.loc[:, features]] ,\n",
    "                     axis = 1)"
   ]
  },
  {
   "cell_type": "code",
   "execution_count": 52,
   "id": "6a1797ac-3cc0-4343-a299-3a81bbd0b0df",
   "metadata": {},
   "outputs": [
    {
     "name": "stdout",
     "output_type": "stream",
     "text": [
      "ACC\n",
      "BLCA\n",
      "BRCA\n",
      "CESC\n",
      "COADREAD\n",
      "ESCC\n",
      "GEA\n",
      "HNSC\n",
      "KIRCKICH\n",
      "KIRP\n",
      "LGGGBM\n",
      "LIHCCHOL\n",
      "LUAD\n",
      "LUSC\n",
      "MESO\n",
      "OV\n",
      "PAAD\n",
      "PCPG\n",
      "PRAD\n",
      "SARC\n",
      "SKCM\n",
      "TGCT\n",
      "THCA\n",
      "THYM\n",
      "UCEC\n",
      "UVM\n"
     ]
    }
   ],
   "source": [
    "# norm within each primary\n",
    "for c in stack.Labels.str.split('_').str[0].unique():\n",
    "    print(c)\n",
    "    primary_subset = stack[stack.Labels.str.contains(c)]\n",
    "    max_col_vals = primary_subset.iloc[:, 1:].max()\n",
    "    X_train = (primary_subset.iloc[:, 1:] / max_col_vals)\n",
    "    X_labeled = pd.concat( [pd.DataFrame(primary_subset.Labels), X_train] ,\n",
    "                     axis = 1)\n",
    "    X_labeled.index.name = c\n",
    "    X_labeled.to_csv('i_o/features_12k_to_5k/'+c+'_from_12k_to_5k.tsv',\n",
    "                   sep = '\\t')"
   ]
  },
  {
   "cell_type": "code",
   "execution_count": null,
   "id": "d0aa55e0-3451-4e1c-8b1c-6b73e9a7e68e",
   "metadata": {},
   "outputs": [],
   "source": [
    "# End 12k n 26"
   ]
  },
  {
   "cell_type": "code",
   "execution_count": 53,
   "id": "c5e86474-1e4a-46ac-8c01-25ed1f3cd994",
   "metadata": {},
   "outputs": [],
   "source": [
    "n26 = sorted(glob.glob('i_o/gexp_intersection_12k/*.tsv'))"
   ]
  },
  {
   "cell_type": "code",
   "execution_count": 55,
   "id": "5cc5a8dd-e378-4cef-84c0-b7e2673528ae",
   "metadata": {},
   "outputs": [
    {
     "data": {
      "text/plain": [
       "'i_o/gexp_intersection_12k/LGGGBM_12k_gexp.tsv'"
      ]
     },
     "execution_count": 55,
     "metadata": {},
     "output_type": "execute_result"
    }
   ],
   "source": [
    "n26[10]"
   ]
  },
  {
   "cell_type": "code",
   "execution_count": 56,
   "id": "d69ae98f-27b7-4a9d-a1d6-abe56271a34b",
   "metadata": {},
   "outputs": [],
   "source": [
    "n26.remove('i_o/gexp_intersection_12k/LGGGBM_12k_gexp.tsv')"
   ]
  },
  {
   "cell_type": "code",
   "execution_count": 57,
   "id": "f921505b-a003-4743-b207-bd25d94a4acd",
   "metadata": {},
   "outputs": [
    {
     "data": {
      "text/plain": [
       "25"
      ]
     },
     "execution_count": 57,
     "metadata": {},
     "output_type": "execute_result"
    }
   ],
   "source": [
    "len(n26)"
   ]
  },
  {
   "cell_type": "code",
   "execution_count": 58,
   "id": "0e86ed81-1473-4b41-89c5-010dcbf99ac2",
   "metadata": {},
   "outputs": [
    {
     "name": "stdout",
     "output_type": "stream",
     "text": [
      "i_o/gexp_intersection_12k/ACC_12k_gexp.tsv\n",
      "i_o/gexp_intersection_12k/BLCA_12k_gexp.tsv\n",
      "i_o/gexp_intersection_12k/BRCA_12k_gexp.tsv\n",
      "i_o/gexp_intersection_12k/CESC_12k_gexp.tsv\n",
      "i_o/gexp_intersection_12k/COADREAD_12k_gexp.tsv\n",
      "i_o/gexp_intersection_12k/ESCC_12k_gexp.tsv\n",
      "i_o/gexp_intersection_12k/GEA_12k_gexp.tsv\n",
      "i_o/gexp_intersection_12k/HNSC_12k_gexp.tsv\n",
      "i_o/gexp_intersection_12k/KIRCKICH_12k_gexp.tsv\n",
      "i_o/gexp_intersection_12k/KIRP_12k_gexp.tsv\n",
      "i_o/gexp_intersection_12k/LIHCCHOL_12k_gexp.tsv\n",
      "i_o/gexp_intersection_12k/LUAD_12k_gexp.tsv\n",
      "i_o/gexp_intersection_12k/LUSC_12k_gexp.tsv\n",
      "i_o/gexp_intersection_12k/MESO_12k_gexp.tsv\n",
      "i_o/gexp_intersection_12k/OV_12k_gexp.tsv\n",
      "i_o/gexp_intersection_12k/PAAD_12k_gexp.tsv\n",
      "i_o/gexp_intersection_12k/PCPG_12k_gexp.tsv\n",
      "i_o/gexp_intersection_12k/PRAD_12k_gexp.tsv\n",
      "i_o/gexp_intersection_12k/SARC_12k_gexp.tsv\n",
      "i_o/gexp_intersection_12k/SKCM_12k_gexp.tsv\n",
      "i_o/gexp_intersection_12k/TGCT_12k_gexp.tsv\n",
      "i_o/gexp_intersection_12k/THCA_12k_gexp.tsv\n",
      "i_o/gexp_intersection_12k/THYM_12k_gexp.tsv\n",
      "i_o/gexp_intersection_12k/UCEC_12k_gexp.tsv\n",
      "i_o/gexp_intersection_12k/UVM_12k_gexp.tsv\n"
     ]
    }
   ],
   "source": [
    "k = 5000\n",
    "stack = pd.DataFrame()\n",
    "for ntrsct_pth in n26:\n",
    "    print(ntrsct_pth)\n",
    "    file = pd.read_csv(ntrsct_pth, sep = '\\t', index_col = 0)\n",
    "    stack = pd.concat( [stack, file] , axis = 0)\n",
    "features = (stack.iloc[:, 1:] - stack.iloc[:, 1:].mean()).abs().mean().sort_values(ascending=False)[:k].index\n",
    "stack = pd.concat( [pd.DataFrame(stack.Labels), stack.loc[:, features]] ,\n",
    "                     axis = 1)"
   ]
  },
  {
   "cell_type": "code",
   "execution_count": 60,
   "id": "6d37d12a-d7bc-45f5-9cbc-eec99010f927",
   "metadata": {},
   "outputs": [
    {
     "name": "stdout",
     "output_type": "stream",
     "text": [
      "ACC\n",
      "BLCA\n",
      "BRCA\n",
      "CESC\n",
      "COADREAD\n",
      "ESCC\n",
      "GEA\n",
      "HNSC\n",
      "KIRCKICH\n",
      "KIRP\n",
      "LIHCCHOL\n",
      "LUAD\n",
      "LUSC\n",
      "MESO\n",
      "OV\n",
      "PAAD\n",
      "PCPG\n",
      "PRAD\n",
      "SARC\n",
      "SKCM\n",
      "TGCT\n",
      "THCA\n",
      "THYM\n",
      "UCEC\n",
      "UVM\n"
     ]
    }
   ],
   "source": [
    "# norm within each primary\n",
    "for c in stack.Labels.str.split('_').str[0].unique():\n",
    "    print(c)\n",
    "    primary_subset = stack[stack.Labels.str.contains(c)]\n",
    "    max_col_vals = primary_subset.iloc[:, 1:].max()\n",
    "    X_train = (primary_subset.iloc[:, 1:] / max_col_vals)\n",
    "    X_labeled = pd.concat( [pd.DataFrame(primary_subset.Labels), X_train] ,\n",
    "                     axis = 1)\n",
    "    X_labeled.index.name = c\n",
    "    X_labeled.to_csv('i_o/features_12k_to_5k_no_LG/'+c+'_from_12k_to_5k_no_LG.tsv',\n",
    "                   sep = '\\t')"
   ]
  },
  {
   "cell_type": "code",
   "execution_count": null,
   "id": "5aeaf043-c416-4e2e-96e3-7cc2fbb125e6",
   "metadata": {},
   "outputs": [],
   "source": [
    "scp local cluster"
   ]
  }
 ],
 "metadata": {
  "kernelspec": {
   "display_name": "Python 3 (ipykernel)",
   "language": "python",
   "name": "python3"
  },
  "language_info": {
   "codemirror_mode": {
    "name": "ipython",
    "version": 3
   },
   "file_extension": ".py",
   "mimetype": "text/x-python",
   "name": "python",
   "nbconvert_exporter": "python",
   "pygments_lexer": "ipython3",
   "version": "3.9.13"
  }
 },
 "nbformat": 4,
 "nbformat_minor": 5
}
