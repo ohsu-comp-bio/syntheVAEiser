{
 "cells": [
  {
   "cell_type": "code",
   "execution_count": null,
   "id": "4fcdae16-6fdd-41e1-aec9-923b95e11afc",
   "metadata": {},
   "outputs": [],
   "source": [
    "# Xena prep\n",
    "    # for synthesis app example files preparation\n",
    "    # https://github.com/ohsu-comp-bio/synthesis\n",
    "    \n",
    "# 1. Select features with mean absolute deviation across all samples\n",
    "    # reduce from ~60k to 5k features\n",
    "    \n",
    "# 2. Build X_train\n",
    "    # Remove samples designated for synthesis\n",
    "    \n",
    "# 3. Build X_synth, a PAM50-labeled synthesis file\n",
    "    # also used for model conditioning (fine-tuning)\n",
    "\n",
    "# 4. Normalize within each feature, seperately within Xtrain and X_synth\n",
    "    # based on method of norming within each cohort"
   ]
  },
  {
   "cell_type": "code",
   "execution_count": 1,
   "id": "79489fff-eeea-4885-9548-b72a208eeef4",
   "metadata": {},
   "outputs": [],
   "source": [
    "import pandas as pd\n",
    "import time"
   ]
  },
  {
   "cell_type": "markdown",
   "id": "e376c84a-d690-45f7-9bf5-27ed9b798ee4",
   "metadata": {},
   "source": [
    "### GDC-PANCAN.htseq_fpkm-uq.tsv.gz\n",
    "#### and\n",
    "### brca-pam50\n",
    "#### are the files downloaded from xena\n",
    "https://xenabrowser.net/datapages/?dataset=GDC-PANCAN.htseq_fpkm-uq.tsv&host=https%3A%2F%2Fgdc.xenahubs.net&removeHub=https%3A%2F%2Fxena.treehouse.gi.ucsc.edu%3A443  \n",
    "https://xenabrowser.net/datapages/?dataset=brca%2Fpam50&host=https%3A%2F%2Fatacseq.x[…].net&removeHub=https%3A%2F%2Fxena.treehouse.gi.ucsc.edu%3A443 "
   ]
  },
  {
   "cell_type": "code",
   "execution_count": 2,
   "id": "51a894aa-c482-4818-a700-0fa513d3fae3",
   "metadata": {},
   "outputs": [],
   "source": [
    "samples_with_p50_labels = pd.read_csv(\n",
    "    'i_o/xena/brca-pam50',\n",
    "    sep = '\\t', index_col = 0)"
   ]
  },
  {
   "cell_type": "code",
   "execution_count": 3,
   "id": "fee90fb4-b6f0-4d5d-8b02-62317b454da1",
   "metadata": {},
   "outputs": [
    {
     "data": {
      "text/plain": [
       "array(['LumB', 'Basal', 'LumA', 'Her2', 'Normal', 'Unknown'], dtype=object)"
      ]
     },
     "execution_count": 3,
     "metadata": {},
     "output_type": "execute_result"
    }
   ],
   "source": [
    "samples_with_p50_labels.PAM50.unique()"
   ]
  },
  {
   "cell_type": "code",
   "execution_count": 4,
   "id": "e0df4766-78f2-40bb-b272-5304c7169ea5",
   "metadata": {},
   "outputs": [
    {
     "data": {
      "text/plain": [
       "LumB       47\n",
       "LumA       34\n",
       "Basal      30\n",
       "Her2       22\n",
       "Unknown     7\n",
       "Normal      1\n",
       "Name: PAM50, dtype: int64"
      ]
     },
     "execution_count": 4,
     "metadata": {},
     "output_type": "execute_result"
    }
   ],
   "source": [
    "samples_with_p50_labels.PAM50.value_counts()"
   ]
  },
  {
   "cell_type": "code",
   "execution_count": 5,
   "id": "c0c3685f-3a9c-47ed-9c59-ccb3f44c304b",
   "metadata": {},
   "outputs": [],
   "source": [
    "label_keep = ['LumB', 'Basal', 'LumA', 'Her2']"
   ]
  },
  {
   "cell_type": "code",
   "execution_count": 6,
   "id": "b067956d-40de-4851-b201-3adfd55705d0",
   "metadata": {},
   "outputs": [],
   "source": [
    "p50_label_cut = samples_with_p50_labels[samples_with_p50_labels.PAM50.isin(label_keep)]"
   ]
  },
  {
   "cell_type": "code",
   "execution_count": 7,
   "id": "7043dbd8-3485-4d46-bd10-84687e325e8d",
   "metadata": {},
   "outputs": [
    {
     "data": {
      "text/plain": [
       "133"
      ]
     },
     "execution_count": 7,
     "metadata": {},
     "output_type": "execute_result"
    }
   ],
   "source": [
    "len(p50_label_cut)"
   ]
  },
  {
   "cell_type": "code",
   "execution_count": 8,
   "id": "d1fecec3-68f3-40e6-8605-cdb92dfa429d",
   "metadata": {},
   "outputs": [],
   "source": [
    "p50_label_unq = p50_label_cut[~p50_label_cut.index.duplicated(keep='first')]"
   ]
  },
  {
   "cell_type": "code",
   "execution_count": 16,
   "id": "e42c33ed-2453-458e-aafa-a5e73ee58502",
   "metadata": {},
   "outputs": [
    {
     "data": {
      "text/html": [
       "<div>\n",
       "<style scoped>\n",
       "    .dataframe tbody tr th:only-of-type {\n",
       "        vertical-align: middle;\n",
       "    }\n",
       "\n",
       "    .dataframe tbody tr th {\n",
       "        vertical-align: top;\n",
       "    }\n",
       "\n",
       "    .dataframe thead th {\n",
       "        text-align: right;\n",
       "    }\n",
       "</style>\n",
       "<table border=\"1\" class=\"dataframe\">\n",
       "  <thead>\n",
       "    <tr style=\"text-align: right;\">\n",
       "      <th></th>\n",
       "      <th>PAM50</th>\n",
       "    </tr>\n",
       "    <tr>\n",
       "      <th>sample</th>\n",
       "      <th></th>\n",
       "    </tr>\n",
       "  </thead>\n",
       "  <tbody>\n",
       "    <tr>\n",
       "      <th>TCGA-A7-A13F-01A</th>\n",
       "      <td>LumB</td>\n",
       "    </tr>\n",
       "  </tbody>\n",
       "</table>\n",
       "</div>"
      ],
      "text/plain": [
       "                 PAM50\n",
       "sample                \n",
       "TCGA-A7-A13F-01A  LumB"
      ]
     },
     "execution_count": 16,
     "metadata": {},
     "output_type": "execute_result"
    }
   ],
   "source": [
    "p50_label_unq.head(1)"
   ]
  },
  {
   "cell_type": "code",
   "execution_count": 9,
   "id": "234d4fae-93ad-4775-9b77-9fdd77f68b8a",
   "metadata": {},
   "outputs": [
    {
     "data": {
      "text/plain": [
       "LumB     25\n",
       "LumA     18\n",
       "Basal    15\n",
       "Her2     11\n",
       "Name: PAM50, dtype: int64"
      ]
     },
     "execution_count": 9,
     "metadata": {},
     "output_type": "execute_result"
    }
   ],
   "source": [
    "p50_label_unq.PAM50.value_counts() # 11 Her2 samples, rarest subtype"
   ]
  },
  {
   "cell_type": "code",
   "execution_count": 10,
   "id": "d33c44b6-4a53-45cf-8401-c82126a750e6",
   "metadata": {},
   "outputs": [],
   "source": [
    "syn_lst = list(p50_label_unq.index) # Samples designated for synthesis"
   ]
  },
  {
   "cell_type": "code",
   "execution_count": 11,
   "id": "5e90f431-4319-4387-938f-d0492b6ca675",
   "metadata": {},
   "outputs": [
    {
     "data": {
      "text/plain": [
       "69"
      ]
     },
     "execution_count": 11,
     "metadata": {},
     "output_type": "execute_result"
    }
   ],
   "source": [
    "len(syn_lst) # check, use for spliting gexp main_frame into train_frame and synth_frame"
   ]
  },
  {
   "cell_type": "code",
   "execution_count": 12,
   "id": "8ee09e3e-9e29-4564-861c-4c7ece8b27a2",
   "metadata": {},
   "outputs": [
    {
     "name": "stdout",
     "output_type": "stream",
     "text": [
      "124.09854388237\n"
     ]
    }
   ],
   "source": [
    "file_read_start = time.time()\n",
    "X_in = pd.read_csv('i_o/xena/GDC-PANCAN.htseq_fpkm-uq.tsv.gz', sep = '\\t', index_col = 0)\n",
    "print(time.time() - file_read_start)"
   ]
  },
  {
   "cell_type": "code",
   "execution_count": 13,
   "id": "e995e38d-7057-4491-b967-813761295039",
   "metadata": {},
   "outputs": [],
   "source": [
    "main_frame = X_in.T"
   ]
  },
  {
   "cell_type": "code",
   "execution_count": 14,
   "id": "ec4768fe-f0be-490d-9a27-1046a4d39337",
   "metadata": {},
   "outputs": [
    {
     "data": {
      "text/plain": [
       "(11768, 60483)"
      ]
     },
     "execution_count": 14,
     "metadata": {},
     "output_type": "execute_result"
    }
   ],
   "source": [
    "main_frame.shape # (11768, 60483)"
   ]
  },
  {
   "cell_type": "code",
   "execution_count": 15,
   "id": "ca83da9a-8b9a-46de-a3d0-af19324a6d91",
   "metadata": {},
   "outputs": [
    {
     "data": {
      "text/html": [
       "<div>\n",
       "<style scoped>\n",
       "    .dataframe tbody tr th:only-of-type {\n",
       "        vertical-align: middle;\n",
       "    }\n",
       "\n",
       "    .dataframe tbody tr th {\n",
       "        vertical-align: top;\n",
       "    }\n",
       "\n",
       "    .dataframe thead th {\n",
       "        text-align: right;\n",
       "    }\n",
       "</style>\n",
       "<table border=\"1\" class=\"dataframe\">\n",
       "  <thead>\n",
       "    <tr style=\"text-align: right;\">\n",
       "      <th>xena_sample</th>\n",
       "      <th>ENSG00000242268.2</th>\n",
       "      <th>ENSG00000270112.3</th>\n",
       "      <th>ENSG00000167578.15</th>\n",
       "      <th>ENSG00000273842.1</th>\n",
       "      <th>ENSG00000078237.5</th>\n",
       "      <th>ENSG00000146083.10</th>\n",
       "      <th>ENSG00000225275.4</th>\n",
       "      <th>ENSG00000158486.12</th>\n",
       "      <th>ENSG00000198242.12</th>\n",
       "      <th>ENSG00000259883.1</th>\n",
       "      <th>...</th>\n",
       "      <th>ENSG00000238244.3</th>\n",
       "      <th>ENSG00000186115.11</th>\n",
       "      <th>ENSG00000216352.1</th>\n",
       "      <th>ENSG00000267117.1</th>\n",
       "      <th>ENSG00000273233.1</th>\n",
       "      <th>ENSG00000105063.17</th>\n",
       "      <th>ENSG00000231119.2</th>\n",
       "      <th>ENSG00000280861.1</th>\n",
       "      <th>ENSG00000123685.7</th>\n",
       "      <th>ENSG00000181518.3</th>\n",
       "    </tr>\n",
       "  </thead>\n",
       "  <tbody>\n",
       "    <tr>\n",
       "      <th>TCGA-OR-A5JP-01A</th>\n",
       "      <td>0.0</td>\n",
       "      <td>10.689655</td>\n",
       "      <td>18.536987</td>\n",
       "      <td>0.0</td>\n",
       "      <td>17.847476</td>\n",
       "      <td>17.092449</td>\n",
       "      <td>0.0</td>\n",
       "      <td>7.645763</td>\n",
       "      <td>21.628175</td>\n",
       "      <td>10.917522</td>\n",
       "      <td>...</td>\n",
       "      <td>0.0</td>\n",
       "      <td>0.0</td>\n",
       "      <td>0.0</td>\n",
       "      <td>12.722942</td>\n",
       "      <td>11.773066</td>\n",
       "      <td>19.730227</td>\n",
       "      <td>11.10208</td>\n",
       "      <td>0.0</td>\n",
       "      <td>11.102346</td>\n",
       "      <td>0.0</td>\n",
       "    </tr>\n",
       "  </tbody>\n",
       "</table>\n",
       "<p>1 rows × 60483 columns</p>\n",
       "</div>"
      ],
      "text/plain": [
       "xena_sample       ENSG00000242268.2  ENSG00000270112.3  ENSG00000167578.15  \\\n",
       "TCGA-OR-A5JP-01A                0.0          10.689655           18.536987   \n",
       "\n",
       "xena_sample       ENSG00000273842.1  ENSG00000078237.5  ENSG00000146083.10  \\\n",
       "TCGA-OR-A5JP-01A                0.0          17.847476           17.092449   \n",
       "\n",
       "xena_sample       ENSG00000225275.4  ENSG00000158486.12  ENSG00000198242.12  \\\n",
       "TCGA-OR-A5JP-01A                0.0            7.645763           21.628175   \n",
       "\n",
       "xena_sample       ENSG00000259883.1  ...  ENSG00000238244.3  \\\n",
       "TCGA-OR-A5JP-01A          10.917522  ...                0.0   \n",
       "\n",
       "xena_sample       ENSG00000186115.11  ENSG00000216352.1  ENSG00000267117.1  \\\n",
       "TCGA-OR-A5JP-01A                 0.0                0.0          12.722942   \n",
       "\n",
       "xena_sample       ENSG00000273233.1  ENSG00000105063.17  ENSG00000231119.2  \\\n",
       "TCGA-OR-A5JP-01A          11.773066           19.730227           11.10208   \n",
       "\n",
       "xena_sample       ENSG00000280861.1  ENSG00000123685.7  ENSG00000181518.3  \n",
       "TCGA-OR-A5JP-01A                0.0          11.102346                0.0  \n",
       "\n",
       "[1 rows x 60483 columns]"
      ]
     },
     "execution_count": 15,
     "metadata": {},
     "output_type": "execute_result"
    }
   ],
   "source": [
    "main_frame.head(1)"
   ]
  },
  {
   "cell_type": "code",
   "execution_count": null,
   "id": "c016e2bc-1b96-493a-a91c-c1f6b268bfd4",
   "metadata": {},
   "outputs": [],
   "source": [
    "# Check if all these samples have a ~60k feature expression vector from the X_main gexp file\n",
    "main_frame.loc[syn_lst, :] # Two PAM50-labeled samples with no expression vector"
   ]
  },
  {
   "cell_type": "code",
   "execution_count": 26,
   "id": "787f7b9a-b32a-40c0-ae38-86074a64a0ce",
   "metadata": {},
   "outputs": [],
   "source": [
    "# Remove two PAM50 samples that don't map to the expression file from the synth list\n",
    "# then extract the synth_X from the main frame"
   ]
  },
  {
   "cell_type": "code",
   "execution_count": 17,
   "id": "199734eb-bfb0-4f5e-9da3-847242bb40ea",
   "metadata": {},
   "outputs": [],
   "source": [
    "syn_lst.remove('TCGA-AQ-A04L-01A')\n",
    "syn_lst.remove('TCGA-BH-A0C1-01A')"
   ]
  },
  {
   "cell_type": "code",
   "execution_count": null,
   "id": "af9de56d-e675-4937-a5fc-b138fa6816fe",
   "metadata": {},
   "outputs": [],
   "source": [
    "# Extract the features for the unique labled samples that map to the expression object"
   ]
  },
  {
   "cell_type": "code",
   "execution_count": 19,
   "id": "8abaf439-d166-4770-8343-a7ec7762c18b",
   "metadata": {
    "tags": []
   },
   "outputs": [],
   "source": [
    "X_synth = main_frame.loc[syn_lst]"
   ]
  },
  {
   "cell_type": "code",
   "execution_count": 20,
   "id": "eab7f962-7a74-4bb3-99b6-61accdc6bb0b",
   "metadata": {},
   "outputs": [
    {
     "data": {
      "text/html": [
       "<div>\n",
       "<style scoped>\n",
       "    .dataframe tbody tr th:only-of-type {\n",
       "        vertical-align: middle;\n",
       "    }\n",
       "\n",
       "    .dataframe tbody tr th {\n",
       "        vertical-align: top;\n",
       "    }\n",
       "\n",
       "    .dataframe thead th {\n",
       "        text-align: right;\n",
       "    }\n",
       "</style>\n",
       "<table border=\"1\" class=\"dataframe\">\n",
       "  <thead>\n",
       "    <tr style=\"text-align: right;\">\n",
       "      <th>xena_sample</th>\n",
       "      <th>ENSG00000242268.2</th>\n",
       "      <th>ENSG00000270112.3</th>\n",
       "      <th>ENSG00000167578.15</th>\n",
       "      <th>ENSG00000273842.1</th>\n",
       "      <th>ENSG00000078237.5</th>\n",
       "      <th>ENSG00000146083.10</th>\n",
       "      <th>ENSG00000225275.4</th>\n",
       "      <th>ENSG00000158486.12</th>\n",
       "      <th>ENSG00000198242.12</th>\n",
       "      <th>ENSG00000259883.1</th>\n",
       "      <th>...</th>\n",
       "      <th>ENSG00000238244.3</th>\n",
       "      <th>ENSG00000186115.11</th>\n",
       "      <th>ENSG00000216352.1</th>\n",
       "      <th>ENSG00000267117.1</th>\n",
       "      <th>ENSG00000273233.1</th>\n",
       "      <th>ENSG00000105063.17</th>\n",
       "      <th>ENSG00000231119.2</th>\n",
       "      <th>ENSG00000280861.1</th>\n",
       "      <th>ENSG00000123685.7</th>\n",
       "      <th>ENSG00000181518.3</th>\n",
       "    </tr>\n",
       "  </thead>\n",
       "  <tbody>\n",
       "    <tr>\n",
       "      <th>TCGA-A7-A13F-01A</th>\n",
       "      <td>0.0</td>\n",
       "      <td>6.397499</td>\n",
       "      <td>15.766939</td>\n",
       "      <td>0.0</td>\n",
       "      <td>16.468291</td>\n",
       "      <td>17.419663</td>\n",
       "      <td>0.0</td>\n",
       "      <td>0.0</td>\n",
       "      <td>22.030428</td>\n",
       "      <td>11.433228</td>\n",
       "      <td>...</td>\n",
       "      <td>0.0</td>\n",
       "      <td>7.094493</td>\n",
       "      <td>0.0</td>\n",
       "      <td>0.0</td>\n",
       "      <td>9.968097</td>\n",
       "      <td>18.488007</td>\n",
       "      <td>13.009847</td>\n",
       "      <td>0.0</td>\n",
       "      <td>10.88142</td>\n",
       "      <td>0.0</td>\n",
       "    </tr>\n",
       "  </tbody>\n",
       "</table>\n",
       "<p>1 rows × 60483 columns</p>\n",
       "</div>"
      ],
      "text/plain": [
       "xena_sample       ENSG00000242268.2  ENSG00000270112.3  ENSG00000167578.15  \\\n",
       "TCGA-A7-A13F-01A                0.0           6.397499           15.766939   \n",
       "\n",
       "xena_sample       ENSG00000273842.1  ENSG00000078237.5  ENSG00000146083.10  \\\n",
       "TCGA-A7-A13F-01A                0.0          16.468291           17.419663   \n",
       "\n",
       "xena_sample       ENSG00000225275.4  ENSG00000158486.12  ENSG00000198242.12  \\\n",
       "TCGA-A7-A13F-01A                0.0                 0.0           22.030428   \n",
       "\n",
       "xena_sample       ENSG00000259883.1  ...  ENSG00000238244.3  \\\n",
       "TCGA-A7-A13F-01A          11.433228  ...                0.0   \n",
       "\n",
       "xena_sample       ENSG00000186115.11  ENSG00000216352.1  ENSG00000267117.1  \\\n",
       "TCGA-A7-A13F-01A            7.094493                0.0                0.0   \n",
       "\n",
       "xena_sample       ENSG00000273233.1  ENSG00000105063.17  ENSG00000231119.2  \\\n",
       "TCGA-A7-A13F-01A           9.968097           18.488007          13.009847   \n",
       "\n",
       "xena_sample       ENSG00000280861.1  ENSG00000123685.7  ENSG00000181518.3  \n",
       "TCGA-A7-A13F-01A                0.0           10.88142                0.0  \n",
       "\n",
       "[1 rows x 60483 columns]"
      ]
     },
     "execution_count": 20,
     "metadata": {},
     "output_type": "execute_result"
    }
   ],
   "source": [
    "X_synth.head(1)"
   ]
  },
  {
   "cell_type": "code",
   "execution_count": 22,
   "id": "67252e26-5fb9-4e3b-b312-8d2558e23ecf",
   "metadata": {},
   "outputs": [],
   "source": [
    "p50_label_gexp_map = p50_label_unq.loc[syn_lst]"
   ]
  },
  {
   "cell_type": "code",
   "execution_count": 25,
   "id": "16cfc7ba-f4be-4d11-af0c-2357884e8b08",
   "metadata": {},
   "outputs": [
    {
     "data": {
      "text/html": [
       "<div>\n",
       "<style scoped>\n",
       "    .dataframe tbody tr th:only-of-type {\n",
       "        vertical-align: middle;\n",
       "    }\n",
       "\n",
       "    .dataframe tbody tr th {\n",
       "        vertical-align: top;\n",
       "    }\n",
       "\n",
       "    .dataframe thead th {\n",
       "        text-align: right;\n",
       "    }\n",
       "</style>\n",
       "<table border=\"1\" class=\"dataframe\">\n",
       "  <thead>\n",
       "    <tr style=\"text-align: right;\">\n",
       "      <th></th>\n",
       "      <th>PAM50</th>\n",
       "    </tr>\n",
       "    <tr>\n",
       "      <th>sample</th>\n",
       "      <th></th>\n",
       "    </tr>\n",
       "  </thead>\n",
       "  <tbody>\n",
       "    <tr>\n",
       "      <th>TCGA-A7-A13F-01A</th>\n",
       "      <td>LumB</td>\n",
       "    </tr>\n",
       "  </tbody>\n",
       "</table>\n",
       "</div>"
      ],
      "text/plain": [
       "                 PAM50\n",
       "sample                \n",
       "TCGA-A7-A13F-01A  LumB"
      ]
     },
     "execution_count": 25,
     "metadata": {},
     "output_type": "execute_result"
    }
   ],
   "source": [
    "p50_label_gexp_map.head(1)"
   ]
  },
  {
   "cell_type": "code",
   "execution_count": 24,
   "id": "f279dac6-c227-4cac-8cc2-48d7cdb6b140",
   "metadata": {},
   "outputs": [],
   "source": [
    "synth_labeled = pd.concat([p50_label_gexp_map, X_synth], axis = 1)"
   ]
  },
  {
   "cell_type": "code",
   "execution_count": 26,
   "id": "e5fd2635-139e-4afb-b3a5-4fdfe4ebebc9",
   "metadata": {},
   "outputs": [
    {
     "data": {
      "text/html": [
       "<div>\n",
       "<style scoped>\n",
       "    .dataframe tbody tr th:only-of-type {\n",
       "        vertical-align: middle;\n",
       "    }\n",
       "\n",
       "    .dataframe tbody tr th {\n",
       "        vertical-align: top;\n",
       "    }\n",
       "\n",
       "    .dataframe thead th {\n",
       "        text-align: right;\n",
       "    }\n",
       "</style>\n",
       "<table border=\"1\" class=\"dataframe\">\n",
       "  <thead>\n",
       "    <tr style=\"text-align: right;\">\n",
       "      <th></th>\n",
       "      <th>PAM50</th>\n",
       "      <th>ENSG00000242268.2</th>\n",
       "      <th>ENSG00000270112.3</th>\n",
       "      <th>ENSG00000167578.15</th>\n",
       "      <th>ENSG00000273842.1</th>\n",
       "      <th>ENSG00000078237.5</th>\n",
       "      <th>ENSG00000146083.10</th>\n",
       "      <th>ENSG00000225275.4</th>\n",
       "      <th>ENSG00000158486.12</th>\n",
       "      <th>ENSG00000198242.12</th>\n",
       "      <th>...</th>\n",
       "      <th>ENSG00000238244.3</th>\n",
       "      <th>ENSG00000186115.11</th>\n",
       "      <th>ENSG00000216352.1</th>\n",
       "      <th>ENSG00000267117.1</th>\n",
       "      <th>ENSG00000273233.1</th>\n",
       "      <th>ENSG00000105063.17</th>\n",
       "      <th>ENSG00000231119.2</th>\n",
       "      <th>ENSG00000280861.1</th>\n",
       "      <th>ENSG00000123685.7</th>\n",
       "      <th>ENSG00000181518.3</th>\n",
       "    </tr>\n",
       "  </thead>\n",
       "  <tbody>\n",
       "    <tr>\n",
       "      <th>TCGA-A7-A13F-01A</th>\n",
       "      <td>LumB</td>\n",
       "      <td>0.0</td>\n",
       "      <td>6.397499</td>\n",
       "      <td>15.766939</td>\n",
       "      <td>0.0</td>\n",
       "      <td>16.468291</td>\n",
       "      <td>17.419663</td>\n",
       "      <td>0.0</td>\n",
       "      <td>0.0</td>\n",
       "      <td>22.030428</td>\n",
       "      <td>...</td>\n",
       "      <td>0.0</td>\n",
       "      <td>7.094493</td>\n",
       "      <td>0.0</td>\n",
       "      <td>0.0</td>\n",
       "      <td>9.968097</td>\n",
       "      <td>18.488007</td>\n",
       "      <td>13.009847</td>\n",
       "      <td>0.0</td>\n",
       "      <td>10.88142</td>\n",
       "      <td>0.0</td>\n",
       "    </tr>\n",
       "  </tbody>\n",
       "</table>\n",
       "<p>1 rows × 60484 columns</p>\n",
       "</div>"
      ],
      "text/plain": [
       "                 PAM50  ENSG00000242268.2  ENSG00000270112.3  \\\n",
       "TCGA-A7-A13F-01A  LumB                0.0           6.397499   \n",
       "\n",
       "                  ENSG00000167578.15  ENSG00000273842.1  ENSG00000078237.5  \\\n",
       "TCGA-A7-A13F-01A           15.766939                0.0          16.468291   \n",
       "\n",
       "                  ENSG00000146083.10  ENSG00000225275.4  ENSG00000158486.12  \\\n",
       "TCGA-A7-A13F-01A           17.419663                0.0                 0.0   \n",
       "\n",
       "                  ENSG00000198242.12  ...  ENSG00000238244.3  \\\n",
       "TCGA-A7-A13F-01A           22.030428  ...                0.0   \n",
       "\n",
       "                  ENSG00000186115.11  ENSG00000216352.1  ENSG00000267117.1  \\\n",
       "TCGA-A7-A13F-01A            7.094493                0.0                0.0   \n",
       "\n",
       "                  ENSG00000273233.1  ENSG00000105063.17  ENSG00000231119.2  \\\n",
       "TCGA-A7-A13F-01A           9.968097           18.488007          13.009847   \n",
       "\n",
       "                  ENSG00000280861.1  ENSG00000123685.7  ENSG00000181518.3  \n",
       "TCGA-A7-A13F-01A                0.0           10.88142                0.0  \n",
       "\n",
       "[1 rows x 60484 columns]"
      ]
     },
     "execution_count": 26,
     "metadata": {},
     "output_type": "execute_result"
    }
   ],
   "source": [
    "synth_labeled.head(1)"
   ]
  },
  {
   "cell_type": "code",
   "execution_count": 27,
   "id": "2386738c-494b-4e06-b09c-2b1c242e4f50",
   "metadata": {},
   "outputs": [],
   "source": [
    "synth_labeled.rename(columns={'PAM50': \"Labels\"}, inplace = True)"
   ]
  },
  {
   "cell_type": "code",
   "execution_count": 28,
   "id": "4bd6162a-c9bd-447c-a596-f332459554ea",
   "metadata": {},
   "outputs": [],
   "source": [
    "synth_labeled.to_csv('i_o/xena/xena_brca_n67.tsv', sep = '\\t')"
   ]
  },
  {
   "cell_type": "code",
   "execution_count": 29,
   "id": "c9b0593a-8b95-4d15-8e67-098b9a7ac88e",
   "metadata": {},
   "outputs": [],
   "source": [
    "syn_chk = pd.read_csv('i_o/xena/xena_brca_n67.tsv', sep = '\\t', index_col = 0)"
   ]
  },
  {
   "cell_type": "code",
   "execution_count": 30,
   "id": "86790df1-74e4-4df2-b25b-20e9dcc431ef",
   "metadata": {},
   "outputs": [
    {
     "data": {
      "text/html": [
       "<div>\n",
       "<style scoped>\n",
       "    .dataframe tbody tr th:only-of-type {\n",
       "        vertical-align: middle;\n",
       "    }\n",
       "\n",
       "    .dataframe tbody tr th {\n",
       "        vertical-align: top;\n",
       "    }\n",
       "\n",
       "    .dataframe thead th {\n",
       "        text-align: right;\n",
       "    }\n",
       "</style>\n",
       "<table border=\"1\" class=\"dataframe\">\n",
       "  <thead>\n",
       "    <tr style=\"text-align: right;\">\n",
       "      <th></th>\n",
       "      <th>Labels</th>\n",
       "      <th>ENSG00000242268.2</th>\n",
       "      <th>ENSG00000270112.3</th>\n",
       "      <th>ENSG00000167578.15</th>\n",
       "      <th>ENSG00000273842.1</th>\n",
       "      <th>ENSG00000078237.5</th>\n",
       "      <th>ENSG00000146083.10</th>\n",
       "      <th>ENSG00000225275.4</th>\n",
       "      <th>ENSG00000158486.12</th>\n",
       "      <th>ENSG00000198242.12</th>\n",
       "      <th>...</th>\n",
       "      <th>ENSG00000238244.3</th>\n",
       "      <th>ENSG00000186115.11</th>\n",
       "      <th>ENSG00000216352.1</th>\n",
       "      <th>ENSG00000267117.1</th>\n",
       "      <th>ENSG00000273233.1</th>\n",
       "      <th>ENSG00000105063.17</th>\n",
       "      <th>ENSG00000231119.2</th>\n",
       "      <th>ENSG00000280861.1</th>\n",
       "      <th>ENSG00000123685.7</th>\n",
       "      <th>ENSG00000181518.3</th>\n",
       "    </tr>\n",
       "  </thead>\n",
       "  <tbody>\n",
       "    <tr>\n",
       "      <th>TCGA-A7-A13F-01A</th>\n",
       "      <td>LumB</td>\n",
       "      <td>0.000000</td>\n",
       "      <td>6.397499</td>\n",
       "      <td>15.766939</td>\n",
       "      <td>0.0</td>\n",
       "      <td>16.468291</td>\n",
       "      <td>17.419663</td>\n",
       "      <td>0.0</td>\n",
       "      <td>0.000000</td>\n",
       "      <td>22.030428</td>\n",
       "      <td>...</td>\n",
       "      <td>0.0</td>\n",
       "      <td>7.094493</td>\n",
       "      <td>0.0</td>\n",
       "      <td>0.000000</td>\n",
       "      <td>9.968097</td>\n",
       "      <td>18.488007</td>\n",
       "      <td>13.009847</td>\n",
       "      <td>0.0</td>\n",
       "      <td>10.881420</td>\n",
       "      <td>0.000000</td>\n",
       "    </tr>\n",
       "    <tr>\n",
       "      <th>TCGA-A7-A13E-01A</th>\n",
       "      <td>Basal</td>\n",
       "      <td>0.000000</td>\n",
       "      <td>9.240214</td>\n",
       "      <td>13.910406</td>\n",
       "      <td>0.0</td>\n",
       "      <td>14.706670</td>\n",
       "      <td>17.694489</td>\n",
       "      <td>0.0</td>\n",
       "      <td>10.496368</td>\n",
       "      <td>21.288673</td>\n",
       "      <td>...</td>\n",
       "      <td>0.0</td>\n",
       "      <td>8.721828</td>\n",
       "      <td>0.0</td>\n",
       "      <td>10.815075</td>\n",
       "      <td>11.090464</td>\n",
       "      <td>17.691870</td>\n",
       "      <td>13.100024</td>\n",
       "      <td>0.0</td>\n",
       "      <td>14.094683</td>\n",
       "      <td>0.000000</td>\n",
       "    </tr>\n",
       "    <tr>\n",
       "      <th>TCGA-BH-A0DP-01A</th>\n",
       "      <td>LumA</td>\n",
       "      <td>9.283496</td>\n",
       "      <td>0.000000</td>\n",
       "      <td>15.967342</td>\n",
       "      <td>0.0</td>\n",
       "      <td>15.662792</td>\n",
       "      <td>18.170825</td>\n",
       "      <td>0.0</td>\n",
       "      <td>11.242179</td>\n",
       "      <td>22.096182</td>\n",
       "      <td>...</td>\n",
       "      <td>0.0</td>\n",
       "      <td>0.000000</td>\n",
       "      <td>0.0</td>\n",
       "      <td>9.969659</td>\n",
       "      <td>10.019535</td>\n",
       "      <td>17.916953</td>\n",
       "      <td>12.019688</td>\n",
       "      <td>0.0</td>\n",
       "      <td>13.517229</td>\n",
       "      <td>0.000000</td>\n",
       "    </tr>\n",
       "    <tr>\n",
       "      <th>TCGA-A2-A0EW-01A</th>\n",
       "      <td>LumA</td>\n",
       "      <td>9.972301</td>\n",
       "      <td>8.447524</td>\n",
       "      <td>15.699358</td>\n",
       "      <td>0.0</td>\n",
       "      <td>16.097541</td>\n",
       "      <td>17.223890</td>\n",
       "      <td>0.0</td>\n",
       "      <td>7.750358</td>\n",
       "      <td>21.467985</td>\n",
       "      <td>...</td>\n",
       "      <td>0.0</td>\n",
       "      <td>8.414270</td>\n",
       "      <td>0.0</td>\n",
       "      <td>11.658351</td>\n",
       "      <td>9.709554</td>\n",
       "      <td>17.967774</td>\n",
       "      <td>12.014229</td>\n",
       "      <td>0.0</td>\n",
       "      <td>12.622058</td>\n",
       "      <td>8.069625</td>\n",
       "    </tr>\n",
       "    <tr>\n",
       "      <th>TCGA-A7-A0CH-01A</th>\n",
       "      <td>LumA</td>\n",
       "      <td>0.000000</td>\n",
       "      <td>7.469552</td>\n",
       "      <td>16.073231</td>\n",
       "      <td>0.0</td>\n",
       "      <td>16.189393</td>\n",
       "      <td>17.599560</td>\n",
       "      <td>0.0</td>\n",
       "      <td>8.502595</td>\n",
       "      <td>21.230527</td>\n",
       "      <td>...</td>\n",
       "      <td>0.0</td>\n",
       "      <td>0.000000</td>\n",
       "      <td>0.0</td>\n",
       "      <td>12.583035</td>\n",
       "      <td>11.633179</td>\n",
       "      <td>17.629331</td>\n",
       "      <td>11.868772</td>\n",
       "      <td>0.0</td>\n",
       "      <td>12.331275</td>\n",
       "      <td>0.000000</td>\n",
       "    </tr>\n",
       "    <tr>\n",
       "      <th>...</th>\n",
       "      <td>...</td>\n",
       "      <td>...</td>\n",
       "      <td>...</td>\n",
       "      <td>...</td>\n",
       "      <td>...</td>\n",
       "      <td>...</td>\n",
       "      <td>...</td>\n",
       "      <td>...</td>\n",
       "      <td>...</td>\n",
       "      <td>...</td>\n",
       "      <td>...</td>\n",
       "      <td>...</td>\n",
       "      <td>...</td>\n",
       "      <td>...</td>\n",
       "      <td>...</td>\n",
       "      <td>...</td>\n",
       "      <td>...</td>\n",
       "      <td>...</td>\n",
       "      <td>...</td>\n",
       "      <td>...</td>\n",
       "      <td>...</td>\n",
       "    </tr>\n",
       "    <tr>\n",
       "      <th>TCGA-C8-A12V-01A</th>\n",
       "      <td>Basal</td>\n",
       "      <td>0.000000</td>\n",
       "      <td>0.000000</td>\n",
       "      <td>16.243491</td>\n",
       "      <td>0.0</td>\n",
       "      <td>16.667266</td>\n",
       "      <td>18.219955</td>\n",
       "      <td>0.0</td>\n",
       "      <td>10.086592</td>\n",
       "      <td>21.094950</td>\n",
       "      <td>...</td>\n",
       "      <td>0.0</td>\n",
       "      <td>0.000000</td>\n",
       "      <td>0.0</td>\n",
       "      <td>11.884431</td>\n",
       "      <td>9.935449</td>\n",
       "      <td>18.662539</td>\n",
       "      <td>11.307709</td>\n",
       "      <td>0.0</td>\n",
       "      <td>15.175939</td>\n",
       "      <td>0.000000</td>\n",
       "    </tr>\n",
       "    <tr>\n",
       "      <th>TCGA-A2-A0YH-01A</th>\n",
       "      <td>LumB</td>\n",
       "      <td>9.011810</td>\n",
       "      <td>0.000000</td>\n",
       "      <td>16.047603</td>\n",
       "      <td>0.0</td>\n",
       "      <td>16.278690</td>\n",
       "      <td>17.637075</td>\n",
       "      <td>0.0</td>\n",
       "      <td>10.105028</td>\n",
       "      <td>22.074732</td>\n",
       "      <td>...</td>\n",
       "      <td>0.0</td>\n",
       "      <td>7.869402</td>\n",
       "      <td>0.0</td>\n",
       "      <td>10.696922</td>\n",
       "      <td>0.000000</td>\n",
       "      <td>18.708863</td>\n",
       "      <td>11.360699</td>\n",
       "      <td>0.0</td>\n",
       "      <td>13.414996</td>\n",
       "      <td>0.000000</td>\n",
       "    </tr>\n",
       "    <tr>\n",
       "      <th>TCGA-AO-A0JB-01A</th>\n",
       "      <td>Basal</td>\n",
       "      <td>0.000000</td>\n",
       "      <td>0.000000</td>\n",
       "      <td>17.654755</td>\n",
       "      <td>0.0</td>\n",
       "      <td>14.977014</td>\n",
       "      <td>17.464474</td>\n",
       "      <td>0.0</td>\n",
       "      <td>9.627344</td>\n",
       "      <td>22.594490</td>\n",
       "      <td>...</td>\n",
       "      <td>0.0</td>\n",
       "      <td>10.877640</td>\n",
       "      <td>0.0</td>\n",
       "      <td>14.031720</td>\n",
       "      <td>14.081643</td>\n",
       "      <td>18.270272</td>\n",
       "      <td>12.258621</td>\n",
       "      <td>0.0</td>\n",
       "      <td>14.612287</td>\n",
       "      <td>0.000000</td>\n",
       "    </tr>\n",
       "    <tr>\n",
       "      <th>TCGA-A2-A0T5-01A</th>\n",
       "      <td>LumA</td>\n",
       "      <td>0.000000</td>\n",
       "      <td>6.258729</td>\n",
       "      <td>15.247359</td>\n",
       "      <td>0.0</td>\n",
       "      <td>15.399994</td>\n",
       "      <td>18.233816</td>\n",
       "      <td>0.0</td>\n",
       "      <td>12.299640</td>\n",
       "      <td>22.500334</td>\n",
       "      <td>...</td>\n",
       "      <td>0.0</td>\n",
       "      <td>10.114606</td>\n",
       "      <td>0.0</td>\n",
       "      <td>9.777856</td>\n",
       "      <td>0.000000</td>\n",
       "      <td>18.081199</td>\n",
       "      <td>10.910544</td>\n",
       "      <td>0.0</td>\n",
       "      <td>13.614720</td>\n",
       "      <td>0.000000</td>\n",
       "    </tr>\n",
       "    <tr>\n",
       "      <th>TCGA-A2-A0YG-01A</th>\n",
       "      <td>LumB</td>\n",
       "      <td>0.000000</td>\n",
       "      <td>8.411591</td>\n",
       "      <td>15.184759</td>\n",
       "      <td>0.0</td>\n",
       "      <td>16.249897</td>\n",
       "      <td>18.530273</td>\n",
       "      <td>0.0</td>\n",
       "      <td>12.972487</td>\n",
       "      <td>20.788958</td>\n",
       "      <td>...</td>\n",
       "      <td>0.0</td>\n",
       "      <td>8.792292</td>\n",
       "      <td>0.0</td>\n",
       "      <td>12.207135</td>\n",
       "      <td>0.000000</td>\n",
       "      <td>18.839781</td>\n",
       "      <td>11.286543</td>\n",
       "      <td>0.0</td>\n",
       "      <td>12.045564</td>\n",
       "      <td>0.000000</td>\n",
       "    </tr>\n",
       "  </tbody>\n",
       "</table>\n",
       "<p>67 rows × 60484 columns</p>\n",
       "</div>"
      ],
      "text/plain": [
       "                 Labels  ENSG00000242268.2  ENSG00000270112.3  \\\n",
       "TCGA-A7-A13F-01A   LumB           0.000000           6.397499   \n",
       "TCGA-A7-A13E-01A  Basal           0.000000           9.240214   \n",
       "TCGA-BH-A0DP-01A   LumA           9.283496           0.000000   \n",
       "TCGA-A2-A0EW-01A   LumA           9.972301           8.447524   \n",
       "TCGA-A7-A0CH-01A   LumA           0.000000           7.469552   \n",
       "...                 ...                ...                ...   \n",
       "TCGA-C8-A12V-01A  Basal           0.000000           0.000000   \n",
       "TCGA-A2-A0YH-01A   LumB           9.011810           0.000000   \n",
       "TCGA-AO-A0JB-01A  Basal           0.000000           0.000000   \n",
       "TCGA-A2-A0T5-01A   LumA           0.000000           6.258729   \n",
       "TCGA-A2-A0YG-01A   LumB           0.000000           8.411591   \n",
       "\n",
       "                  ENSG00000167578.15  ENSG00000273842.1  ENSG00000078237.5  \\\n",
       "TCGA-A7-A13F-01A           15.766939                0.0          16.468291   \n",
       "TCGA-A7-A13E-01A           13.910406                0.0          14.706670   \n",
       "TCGA-BH-A0DP-01A           15.967342                0.0          15.662792   \n",
       "TCGA-A2-A0EW-01A           15.699358                0.0          16.097541   \n",
       "TCGA-A7-A0CH-01A           16.073231                0.0          16.189393   \n",
       "...                              ...                ...                ...   \n",
       "TCGA-C8-A12V-01A           16.243491                0.0          16.667266   \n",
       "TCGA-A2-A0YH-01A           16.047603                0.0          16.278690   \n",
       "TCGA-AO-A0JB-01A           17.654755                0.0          14.977014   \n",
       "TCGA-A2-A0T5-01A           15.247359                0.0          15.399994   \n",
       "TCGA-A2-A0YG-01A           15.184759                0.0          16.249897   \n",
       "\n",
       "                  ENSG00000146083.10  ENSG00000225275.4  ENSG00000158486.12  \\\n",
       "TCGA-A7-A13F-01A           17.419663                0.0            0.000000   \n",
       "TCGA-A7-A13E-01A           17.694489                0.0           10.496368   \n",
       "TCGA-BH-A0DP-01A           18.170825                0.0           11.242179   \n",
       "TCGA-A2-A0EW-01A           17.223890                0.0            7.750358   \n",
       "TCGA-A7-A0CH-01A           17.599560                0.0            8.502595   \n",
       "...                              ...                ...                 ...   \n",
       "TCGA-C8-A12V-01A           18.219955                0.0           10.086592   \n",
       "TCGA-A2-A0YH-01A           17.637075                0.0           10.105028   \n",
       "TCGA-AO-A0JB-01A           17.464474                0.0            9.627344   \n",
       "TCGA-A2-A0T5-01A           18.233816                0.0           12.299640   \n",
       "TCGA-A2-A0YG-01A           18.530273                0.0           12.972487   \n",
       "\n",
       "                  ENSG00000198242.12  ...  ENSG00000238244.3  \\\n",
       "TCGA-A7-A13F-01A           22.030428  ...                0.0   \n",
       "TCGA-A7-A13E-01A           21.288673  ...                0.0   \n",
       "TCGA-BH-A0DP-01A           22.096182  ...                0.0   \n",
       "TCGA-A2-A0EW-01A           21.467985  ...                0.0   \n",
       "TCGA-A7-A0CH-01A           21.230527  ...                0.0   \n",
       "...                              ...  ...                ...   \n",
       "TCGA-C8-A12V-01A           21.094950  ...                0.0   \n",
       "TCGA-A2-A0YH-01A           22.074732  ...                0.0   \n",
       "TCGA-AO-A0JB-01A           22.594490  ...                0.0   \n",
       "TCGA-A2-A0T5-01A           22.500334  ...                0.0   \n",
       "TCGA-A2-A0YG-01A           20.788958  ...                0.0   \n",
       "\n",
       "                  ENSG00000186115.11  ENSG00000216352.1  ENSG00000267117.1  \\\n",
       "TCGA-A7-A13F-01A            7.094493                0.0           0.000000   \n",
       "TCGA-A7-A13E-01A            8.721828                0.0          10.815075   \n",
       "TCGA-BH-A0DP-01A            0.000000                0.0           9.969659   \n",
       "TCGA-A2-A0EW-01A            8.414270                0.0          11.658351   \n",
       "TCGA-A7-A0CH-01A            0.000000                0.0          12.583035   \n",
       "...                              ...                ...                ...   \n",
       "TCGA-C8-A12V-01A            0.000000                0.0          11.884431   \n",
       "TCGA-A2-A0YH-01A            7.869402                0.0          10.696922   \n",
       "TCGA-AO-A0JB-01A           10.877640                0.0          14.031720   \n",
       "TCGA-A2-A0T5-01A           10.114606                0.0           9.777856   \n",
       "TCGA-A2-A0YG-01A            8.792292                0.0          12.207135   \n",
       "\n",
       "                  ENSG00000273233.1  ENSG00000105063.17  ENSG00000231119.2  \\\n",
       "TCGA-A7-A13F-01A           9.968097           18.488007          13.009847   \n",
       "TCGA-A7-A13E-01A          11.090464           17.691870          13.100024   \n",
       "TCGA-BH-A0DP-01A          10.019535           17.916953          12.019688   \n",
       "TCGA-A2-A0EW-01A           9.709554           17.967774          12.014229   \n",
       "TCGA-A7-A0CH-01A          11.633179           17.629331          11.868772   \n",
       "...                             ...                 ...                ...   \n",
       "TCGA-C8-A12V-01A           9.935449           18.662539          11.307709   \n",
       "TCGA-A2-A0YH-01A           0.000000           18.708863          11.360699   \n",
       "TCGA-AO-A0JB-01A          14.081643           18.270272          12.258621   \n",
       "TCGA-A2-A0T5-01A           0.000000           18.081199          10.910544   \n",
       "TCGA-A2-A0YG-01A           0.000000           18.839781          11.286543   \n",
       "\n",
       "                  ENSG00000280861.1  ENSG00000123685.7  ENSG00000181518.3  \n",
       "TCGA-A7-A13F-01A                0.0          10.881420           0.000000  \n",
       "TCGA-A7-A13E-01A                0.0          14.094683           0.000000  \n",
       "TCGA-BH-A0DP-01A                0.0          13.517229           0.000000  \n",
       "TCGA-A2-A0EW-01A                0.0          12.622058           8.069625  \n",
       "TCGA-A7-A0CH-01A                0.0          12.331275           0.000000  \n",
       "...                             ...                ...                ...  \n",
       "TCGA-C8-A12V-01A                0.0          15.175939           0.000000  \n",
       "TCGA-A2-A0YH-01A                0.0          13.414996           0.000000  \n",
       "TCGA-AO-A0JB-01A                0.0          14.612287           0.000000  \n",
       "TCGA-A2-A0T5-01A                0.0          13.614720           0.000000  \n",
       "TCGA-A2-A0YG-01A                0.0          12.045564           0.000000  \n",
       "\n",
       "[67 rows x 60484 columns]"
      ]
     },
     "execution_count": 30,
     "metadata": {},
     "output_type": "execute_result"
    }
   ],
   "source": [
    "syn_chk"
   ]
  },
  {
   "cell_type": "markdown",
   "id": "7c7e7dcf-0792-46e8-bda8-6273b325ee89",
   "metadata": {},
   "source": [
    "### Synthesis file prepped for feature selection and normalization"
   ]
  },
  {
   "cell_type": "markdown",
   "id": "fd8fd6eb-9849-4bb2-8258-e67602bc427c",
   "metadata": {},
   "source": [
    "### Build train file, run MAD 5k, normalize"
   ]
  },
  {
   "cell_type": "code",
   "execution_count": 39,
   "id": "8bb16358-0d41-4ef1-8ebe-003f7cd07f3a",
   "metadata": {},
   "outputs": [
    {
     "data": {
      "text/plain": [
       "(60483, 11768)"
      ]
     },
     "execution_count": 39,
     "metadata": {},
     "output_type": "execute_result"
    }
   ],
   "source": [
    "X_in.shape # count all samples"
   ]
  },
  {
   "cell_type": "code",
   "execution_count": 40,
   "id": "a592be2d-f9ec-440b-aff9-da86c0dec634",
   "metadata": {},
   "outputs": [
    {
     "data": {
      "text/plain": [
       "(11701, 60483)"
      ]
     },
     "execution_count": 40,
     "metadata": {},
     "output_type": "execute_result"
    }
   ],
   "source": [
    "train_frame = main_frame.loc[~main_frame.index.isin(syn_lst)]\n",
    "train_frame.shape"
   ]
  },
  {
   "cell_type": "code",
   "execution_count": 41,
   "id": "6c1acb67-3317-4414-ba97-e568cc0b9f15",
   "metadata": {},
   "outputs": [
    {
     "data": {
      "text/plain": [
       "11768"
      ]
     },
     "execution_count": 41,
     "metadata": {},
     "output_type": "execute_result"
    }
   ],
   "source": [
    "11701 + 67 # all samples accounted for"
   ]
  },
  {
   "cell_type": "code",
   "execution_count": 35,
   "id": "e084f812-5aea-4d23-ad89-3f428c93ae30",
   "metadata": {},
   "outputs": [
    {
     "data": {
      "text/html": [
       "<div>\n",
       "<style scoped>\n",
       "    .dataframe tbody tr th:only-of-type {\n",
       "        vertical-align: middle;\n",
       "    }\n",
       "\n",
       "    .dataframe tbody tr th {\n",
       "        vertical-align: top;\n",
       "    }\n",
       "\n",
       "    .dataframe thead th {\n",
       "        text-align: right;\n",
       "    }\n",
       "</style>\n",
       "<table border=\"1\" class=\"dataframe\">\n",
       "  <thead>\n",
       "    <tr style=\"text-align: right;\">\n",
       "      <th>xena_sample</th>\n",
       "      <th>ENSG00000242268.2</th>\n",
       "      <th>ENSG00000270112.3</th>\n",
       "      <th>ENSG00000167578.15</th>\n",
       "      <th>ENSG00000273842.1</th>\n",
       "      <th>ENSG00000078237.5</th>\n",
       "      <th>ENSG00000146083.10</th>\n",
       "      <th>ENSG00000225275.4</th>\n",
       "      <th>ENSG00000158486.12</th>\n",
       "      <th>ENSG00000198242.12</th>\n",
       "      <th>ENSG00000259883.1</th>\n",
       "      <th>...</th>\n",
       "      <th>ENSG00000238244.3</th>\n",
       "      <th>ENSG00000186115.11</th>\n",
       "      <th>ENSG00000216352.1</th>\n",
       "      <th>ENSG00000267117.1</th>\n",
       "      <th>ENSG00000273233.1</th>\n",
       "      <th>ENSG00000105063.17</th>\n",
       "      <th>ENSG00000231119.2</th>\n",
       "      <th>ENSG00000280861.1</th>\n",
       "      <th>ENSG00000123685.7</th>\n",
       "      <th>ENSG00000181518.3</th>\n",
       "    </tr>\n",
       "  </thead>\n",
       "  <tbody>\n",
       "    <tr>\n",
       "      <th>TCGA-OR-A5JP-01A</th>\n",
       "      <td>0.0</td>\n",
       "      <td>10.689655</td>\n",
       "      <td>18.536987</td>\n",
       "      <td>0.0</td>\n",
       "      <td>17.847476</td>\n",
       "      <td>17.092449</td>\n",
       "      <td>0.0</td>\n",
       "      <td>7.645763</td>\n",
       "      <td>21.628175</td>\n",
       "      <td>10.917522</td>\n",
       "      <td>...</td>\n",
       "      <td>0.0</td>\n",
       "      <td>0.0</td>\n",
       "      <td>0.0</td>\n",
       "      <td>12.722942</td>\n",
       "      <td>11.773066</td>\n",
       "      <td>19.730227</td>\n",
       "      <td>11.10208</td>\n",
       "      <td>0.0</td>\n",
       "      <td>11.102346</td>\n",
       "      <td>0.0</td>\n",
       "    </tr>\n",
       "  </tbody>\n",
       "</table>\n",
       "<p>1 rows × 60483 columns</p>\n",
       "</div>"
      ],
      "text/plain": [
       "xena_sample       ENSG00000242268.2  ENSG00000270112.3  ENSG00000167578.15  \\\n",
       "TCGA-OR-A5JP-01A                0.0          10.689655           18.536987   \n",
       "\n",
       "xena_sample       ENSG00000273842.1  ENSG00000078237.5  ENSG00000146083.10  \\\n",
       "TCGA-OR-A5JP-01A                0.0          17.847476           17.092449   \n",
       "\n",
       "xena_sample       ENSG00000225275.4  ENSG00000158486.12  ENSG00000198242.12  \\\n",
       "TCGA-OR-A5JP-01A                0.0            7.645763           21.628175   \n",
       "\n",
       "xena_sample       ENSG00000259883.1  ...  ENSG00000238244.3  \\\n",
       "TCGA-OR-A5JP-01A          10.917522  ...                0.0   \n",
       "\n",
       "xena_sample       ENSG00000186115.11  ENSG00000216352.1  ENSG00000267117.1  \\\n",
       "TCGA-OR-A5JP-01A                 0.0                0.0          12.722942   \n",
       "\n",
       "xena_sample       ENSG00000273233.1  ENSG00000105063.17  ENSG00000231119.2  \\\n",
       "TCGA-OR-A5JP-01A          11.773066           19.730227           11.10208   \n",
       "\n",
       "xena_sample       ENSG00000280861.1  ENSG00000123685.7  ENSG00000181518.3  \n",
       "TCGA-OR-A5JP-01A                0.0          11.102346                0.0  \n",
       "\n",
       "[1 rows x 60483 columns]"
      ]
     },
     "execution_count": 35,
     "metadata": {},
     "output_type": "execute_result"
    }
   ],
   "source": [
    "train_frame.head(1)"
   ]
  },
  {
   "cell_type": "code",
   "execution_count": null,
   "id": "5acc565a-0e9c-4c1c-9ca9-a57d490c282d",
   "metadata": {},
   "outputs": [],
   "source": [
    "del(X_in)"
   ]
  },
  {
   "cell_type": "code",
   "execution_count": null,
   "id": "bb8215b1-4dea-469c-82d3-e342e302e7b9",
   "metadata": {},
   "outputs": [],
   "source": [
    "del(main_frame)"
   ]
  },
  {
   "cell_type": "code",
   "execution_count": 51,
   "id": "60387baa-88a6-4797-a296-5fe4cab19cd0",
   "metadata": {},
   "outputs": [
    {
     "name": "stdout",
     "output_type": "stream",
     "text": [
      "849.271585226059\n"
     ]
    }
   ],
   "source": [
    "write_time = time.time()\n",
    "train_frame.to_csv('i_o/xena/xena_gexp_n11702.tsv', sep = '\\t')\n",
    "print(time.time() - write_time)"
   ]
  },
  {
   "cell_type": "code",
   "execution_count": null,
   "id": "00d24732-1aa8-4b62-a674-fe77999bb32f",
   "metadata": {
    "tags": []
   },
   "outputs": [],
   "source": [
    "read_time = time.time()\n",
    "trn_chk = pd.read_csv('i_o/xena/xena_gexp_n11702.tsv', sep = '\\t', index_col = 0)\n",
    "print(time.time() - read_time)"
   ]
  },
  {
   "cell_type": "code",
   "execution_count": 43,
   "id": "df76fd43-1f48-41bb-81da-f232df9f1ef7",
   "metadata": {},
   "outputs": [],
   "source": [
    "train_frame.insert(0, 'Labels', 'x_n')"
   ]
  },
  {
   "cell_type": "code",
   "execution_count": 44,
   "id": "22f16677-6e56-4d12-9808-cbab23750448",
   "metadata": {},
   "outputs": [
    {
     "data": {
      "text/html": [
       "<div>\n",
       "<style scoped>\n",
       "    .dataframe tbody tr th:only-of-type {\n",
       "        vertical-align: middle;\n",
       "    }\n",
       "\n",
       "    .dataframe tbody tr th {\n",
       "        vertical-align: top;\n",
       "    }\n",
       "\n",
       "    .dataframe thead th {\n",
       "        text-align: right;\n",
       "    }\n",
       "</style>\n",
       "<table border=\"1\" class=\"dataframe\">\n",
       "  <thead>\n",
       "    <tr style=\"text-align: right;\">\n",
       "      <th>xena_sample</th>\n",
       "      <th>Labels</th>\n",
       "      <th>ENSG00000242268.2</th>\n",
       "      <th>ENSG00000270112.3</th>\n",
       "      <th>ENSG00000167578.15</th>\n",
       "      <th>ENSG00000273842.1</th>\n",
       "      <th>ENSG00000078237.5</th>\n",
       "      <th>ENSG00000146083.10</th>\n",
       "      <th>ENSG00000225275.4</th>\n",
       "      <th>ENSG00000158486.12</th>\n",
       "      <th>ENSG00000198242.12</th>\n",
       "      <th>...</th>\n",
       "      <th>ENSG00000238244.3</th>\n",
       "      <th>ENSG00000186115.11</th>\n",
       "      <th>ENSG00000216352.1</th>\n",
       "      <th>ENSG00000267117.1</th>\n",
       "      <th>ENSG00000273233.1</th>\n",
       "      <th>ENSG00000105063.17</th>\n",
       "      <th>ENSG00000231119.2</th>\n",
       "      <th>ENSG00000280861.1</th>\n",
       "      <th>ENSG00000123685.7</th>\n",
       "      <th>ENSG00000181518.3</th>\n",
       "    </tr>\n",
       "  </thead>\n",
       "  <tbody>\n",
       "    <tr>\n",
       "      <th>TCGA-OR-A5JP-01A</th>\n",
       "      <td>x_n</td>\n",
       "      <td>0.0</td>\n",
       "      <td>10.689655</td>\n",
       "      <td>18.536987</td>\n",
       "      <td>0.0</td>\n",
       "      <td>17.847476</td>\n",
       "      <td>17.092449</td>\n",
       "      <td>0.0</td>\n",
       "      <td>7.645763</td>\n",
       "      <td>21.628175</td>\n",
       "      <td>...</td>\n",
       "      <td>0.0</td>\n",
       "      <td>0.0</td>\n",
       "      <td>0.0</td>\n",
       "      <td>12.722942</td>\n",
       "      <td>11.773066</td>\n",
       "      <td>19.730227</td>\n",
       "      <td>11.10208</td>\n",
       "      <td>0.0</td>\n",
       "      <td>11.102346</td>\n",
       "      <td>0.0</td>\n",
       "    </tr>\n",
       "  </tbody>\n",
       "</table>\n",
       "<p>1 rows × 60484 columns</p>\n",
       "</div>"
      ],
      "text/plain": [
       "xena_sample      Labels  ENSG00000242268.2  ENSG00000270112.3  \\\n",
       "TCGA-OR-A5JP-01A    x_n                0.0          10.689655   \n",
       "\n",
       "xena_sample       ENSG00000167578.15  ENSG00000273842.1  ENSG00000078237.5  \\\n",
       "TCGA-OR-A5JP-01A           18.536987                0.0          17.847476   \n",
       "\n",
       "xena_sample       ENSG00000146083.10  ENSG00000225275.4  ENSG00000158486.12  \\\n",
       "TCGA-OR-A5JP-01A           17.092449                0.0            7.645763   \n",
       "\n",
       "xena_sample       ENSG00000198242.12  ...  ENSG00000238244.3  \\\n",
       "TCGA-OR-A5JP-01A           21.628175  ...                0.0   \n",
       "\n",
       "xena_sample       ENSG00000186115.11  ENSG00000216352.1  ENSG00000267117.1  \\\n",
       "TCGA-OR-A5JP-01A                 0.0                0.0          12.722942   \n",
       "\n",
       "xena_sample       ENSG00000273233.1  ENSG00000105063.17  ENSG00000231119.2  \\\n",
       "TCGA-OR-A5JP-01A          11.773066           19.730227           11.10208   \n",
       "\n",
       "xena_sample       ENSG00000280861.1  ENSG00000123685.7  ENSG00000181518.3  \n",
       "TCGA-OR-A5JP-01A                0.0          11.102346                0.0  \n",
       "\n",
       "[1 rows x 60484 columns]"
      ]
     },
     "execution_count": 44,
     "metadata": {},
     "output_type": "execute_result"
    }
   ],
   "source": [
    "train_frame.head(1)"
   ]
  },
  {
   "cell_type": "code",
   "execution_count": 45,
   "id": "a5c93e25-7373-4ccc-a458-479d8b17243c",
   "metadata": {},
   "outputs": [
    {
     "data": {
      "text/html": [
       "<div>\n",
       "<style scoped>\n",
       "    .dataframe tbody tr th:only-of-type {\n",
       "        vertical-align: middle;\n",
       "    }\n",
       "\n",
       "    .dataframe tbody tr th {\n",
       "        vertical-align: top;\n",
       "    }\n",
       "\n",
       "    .dataframe thead th {\n",
       "        text-align: right;\n",
       "    }\n",
       "</style>\n",
       "<table border=\"1\" class=\"dataframe\">\n",
       "  <thead>\n",
       "    <tr style=\"text-align: right;\">\n",
       "      <th></th>\n",
       "      <th>Labels</th>\n",
       "      <th>ENSG00000242268.2</th>\n",
       "      <th>ENSG00000270112.3</th>\n",
       "      <th>ENSG00000167578.15</th>\n",
       "      <th>ENSG00000273842.1</th>\n",
       "      <th>ENSG00000078237.5</th>\n",
       "      <th>ENSG00000146083.10</th>\n",
       "      <th>ENSG00000225275.4</th>\n",
       "      <th>ENSG00000158486.12</th>\n",
       "      <th>ENSG00000198242.12</th>\n",
       "      <th>...</th>\n",
       "      <th>ENSG00000238244.3</th>\n",
       "      <th>ENSG00000186115.11</th>\n",
       "      <th>ENSG00000216352.1</th>\n",
       "      <th>ENSG00000267117.1</th>\n",
       "      <th>ENSG00000273233.1</th>\n",
       "      <th>ENSG00000105063.17</th>\n",
       "      <th>ENSG00000231119.2</th>\n",
       "      <th>ENSG00000280861.1</th>\n",
       "      <th>ENSG00000123685.7</th>\n",
       "      <th>ENSG00000181518.3</th>\n",
       "    </tr>\n",
       "  </thead>\n",
       "  <tbody>\n",
       "    <tr>\n",
       "      <th>TCGA-A7-A13F-01A</th>\n",
       "      <td>LumB</td>\n",
       "      <td>0.0</td>\n",
       "      <td>6.397499</td>\n",
       "      <td>15.766939</td>\n",
       "      <td>0.0</td>\n",
       "      <td>16.468291</td>\n",
       "      <td>17.419663</td>\n",
       "      <td>0.0</td>\n",
       "      <td>0.0</td>\n",
       "      <td>22.030428</td>\n",
       "      <td>...</td>\n",
       "      <td>0.0</td>\n",
       "      <td>7.094493</td>\n",
       "      <td>0.0</td>\n",
       "      <td>0.0</td>\n",
       "      <td>9.968097</td>\n",
       "      <td>18.488007</td>\n",
       "      <td>13.009847</td>\n",
       "      <td>0.0</td>\n",
       "      <td>10.88142</td>\n",
       "      <td>0.0</td>\n",
       "    </tr>\n",
       "  </tbody>\n",
       "</table>\n",
       "<p>1 rows × 60484 columns</p>\n",
       "</div>"
      ],
      "text/plain": [
       "                 Labels  ENSG00000242268.2  ENSG00000270112.3  \\\n",
       "TCGA-A7-A13F-01A   LumB                0.0           6.397499   \n",
       "\n",
       "                  ENSG00000167578.15  ENSG00000273842.1  ENSG00000078237.5  \\\n",
       "TCGA-A7-A13F-01A           15.766939                0.0          16.468291   \n",
       "\n",
       "                  ENSG00000146083.10  ENSG00000225275.4  ENSG00000158486.12  \\\n",
       "TCGA-A7-A13F-01A           17.419663                0.0                 0.0   \n",
       "\n",
       "                  ENSG00000198242.12  ...  ENSG00000238244.3  \\\n",
       "TCGA-A7-A13F-01A           22.030428  ...                0.0   \n",
       "\n",
       "                  ENSG00000186115.11  ENSG00000216352.1  ENSG00000267117.1  \\\n",
       "TCGA-A7-A13F-01A            7.094493                0.0                0.0   \n",
       "\n",
       "                  ENSG00000273233.1  ENSG00000105063.17  ENSG00000231119.2  \\\n",
       "TCGA-A7-A13F-01A           9.968097           18.488007          13.009847   \n",
       "\n",
       "                  ENSG00000280861.1  ENSG00000123685.7  ENSG00000181518.3  \n",
       "TCGA-A7-A13F-01A                0.0           10.88142                0.0  \n",
       "\n",
       "[1 rows x 60484 columns]"
      ]
     },
     "execution_count": 45,
     "metadata": {},
     "output_type": "execute_result"
    }
   ],
   "source": [
    "synth_labeled.head(1)"
   ]
  },
  {
   "cell_type": "code",
   "execution_count": 46,
   "id": "4b7f095e-e2e0-440b-b80f-cf4adcf03c9b",
   "metadata": {},
   "outputs": [],
   "source": [
    "stack = pd.concat([train_frame, synth_labeled], axis = 0)"
   ]
  },
  {
   "cell_type": "code",
   "execution_count": 47,
   "id": "8b5faa1d-ecf8-49b2-bf6a-ba312b019144",
   "metadata": {},
   "outputs": [
    {
     "data": {
      "text/plain": [
       "(11768, 60484)"
      ]
     },
     "execution_count": 47,
     "metadata": {},
     "output_type": "execute_result"
    }
   ],
   "source": [
    "stack.shape"
   ]
  },
  {
   "cell_type": "code",
   "execution_count": 48,
   "id": "dd9a459b-a560-4b82-b7ba-fdc80999fbcc",
   "metadata": {},
   "outputs": [
    {
     "data": {
      "text/html": [
       "<div>\n",
       "<style scoped>\n",
       "    .dataframe tbody tr th:only-of-type {\n",
       "        vertical-align: middle;\n",
       "    }\n",
       "\n",
       "    .dataframe tbody tr th {\n",
       "        vertical-align: top;\n",
       "    }\n",
       "\n",
       "    .dataframe thead th {\n",
       "        text-align: right;\n",
       "    }\n",
       "</style>\n",
       "<table border=\"1\" class=\"dataframe\">\n",
       "  <thead>\n",
       "    <tr style=\"text-align: right;\">\n",
       "      <th></th>\n",
       "      <th>Labels</th>\n",
       "      <th>ENSG00000242268.2</th>\n",
       "      <th>ENSG00000270112.3</th>\n",
       "      <th>ENSG00000167578.15</th>\n",
       "      <th>ENSG00000273842.1</th>\n",
       "      <th>ENSG00000078237.5</th>\n",
       "      <th>ENSG00000146083.10</th>\n",
       "      <th>ENSG00000225275.4</th>\n",
       "      <th>ENSG00000158486.12</th>\n",
       "      <th>ENSG00000198242.12</th>\n",
       "      <th>...</th>\n",
       "      <th>ENSG00000238244.3</th>\n",
       "      <th>ENSG00000186115.11</th>\n",
       "      <th>ENSG00000216352.1</th>\n",
       "      <th>ENSG00000267117.1</th>\n",
       "      <th>ENSG00000273233.1</th>\n",
       "      <th>ENSG00000105063.17</th>\n",
       "      <th>ENSG00000231119.2</th>\n",
       "      <th>ENSG00000280861.1</th>\n",
       "      <th>ENSG00000123685.7</th>\n",
       "      <th>ENSG00000181518.3</th>\n",
       "    </tr>\n",
       "  </thead>\n",
       "  <tbody>\n",
       "    <tr>\n",
       "      <th>TCGA-OR-A5JP-01A</th>\n",
       "      <td>x_n</td>\n",
       "      <td>0.0</td>\n",
       "      <td>10.689655</td>\n",
       "      <td>18.536987</td>\n",
       "      <td>0.0</td>\n",
       "      <td>17.847476</td>\n",
       "      <td>17.092449</td>\n",
       "      <td>0.0</td>\n",
       "      <td>7.645763</td>\n",
       "      <td>21.628175</td>\n",
       "      <td>...</td>\n",
       "      <td>0.0</td>\n",
       "      <td>0.0</td>\n",
       "      <td>0.0</td>\n",
       "      <td>12.722942</td>\n",
       "      <td>11.773066</td>\n",
       "      <td>19.730227</td>\n",
       "      <td>11.10208</td>\n",
       "      <td>0.0</td>\n",
       "      <td>11.102346</td>\n",
       "      <td>0.0</td>\n",
       "    </tr>\n",
       "  </tbody>\n",
       "</table>\n",
       "<p>1 rows × 60484 columns</p>\n",
       "</div>"
      ],
      "text/plain": [
       "                 Labels  ENSG00000242268.2  ENSG00000270112.3  \\\n",
       "TCGA-OR-A5JP-01A    x_n                0.0          10.689655   \n",
       "\n",
       "                  ENSG00000167578.15  ENSG00000273842.1  ENSG00000078237.5  \\\n",
       "TCGA-OR-A5JP-01A           18.536987                0.0          17.847476   \n",
       "\n",
       "                  ENSG00000146083.10  ENSG00000225275.4  ENSG00000158486.12  \\\n",
       "TCGA-OR-A5JP-01A           17.092449                0.0            7.645763   \n",
       "\n",
       "                  ENSG00000198242.12  ...  ENSG00000238244.3  \\\n",
       "TCGA-OR-A5JP-01A           21.628175  ...                0.0   \n",
       "\n",
       "                  ENSG00000186115.11  ENSG00000216352.1  ENSG00000267117.1  \\\n",
       "TCGA-OR-A5JP-01A                 0.0                0.0          12.722942   \n",
       "\n",
       "                  ENSG00000273233.1  ENSG00000105063.17  ENSG00000231119.2  \\\n",
       "TCGA-OR-A5JP-01A          11.773066           19.730227           11.10208   \n",
       "\n",
       "                  ENSG00000280861.1  ENSG00000123685.7  ENSG00000181518.3  \n",
       "TCGA-OR-A5JP-01A                0.0          11.102346                0.0  \n",
       "\n",
       "[1 rows x 60484 columns]"
      ]
     },
     "execution_count": 48,
     "metadata": {},
     "output_type": "execute_result"
    }
   ],
   "source": [
    "stack.head(1)"
   ]
  },
  {
   "cell_type": "code",
   "execution_count": 49,
   "id": "5ccbaaa3-cdea-45ea-ad2d-f992fd375ff2",
   "metadata": {},
   "outputs": [
    {
     "data": {
      "text/html": [
       "<div>\n",
       "<style scoped>\n",
       "    .dataframe tbody tr th:only-of-type {\n",
       "        vertical-align: middle;\n",
       "    }\n",
       "\n",
       "    .dataframe tbody tr th {\n",
       "        vertical-align: top;\n",
       "    }\n",
       "\n",
       "    .dataframe thead th {\n",
       "        text-align: right;\n",
       "    }\n",
       "</style>\n",
       "<table border=\"1\" class=\"dataframe\">\n",
       "  <thead>\n",
       "    <tr style=\"text-align: right;\">\n",
       "      <th></th>\n",
       "      <th>Labels</th>\n",
       "      <th>ENSG00000242268.2</th>\n",
       "      <th>ENSG00000270112.3</th>\n",
       "      <th>ENSG00000167578.15</th>\n",
       "      <th>ENSG00000273842.1</th>\n",
       "      <th>ENSG00000078237.5</th>\n",
       "      <th>ENSG00000146083.10</th>\n",
       "      <th>ENSG00000225275.4</th>\n",
       "      <th>ENSG00000158486.12</th>\n",
       "      <th>ENSG00000198242.12</th>\n",
       "      <th>...</th>\n",
       "      <th>ENSG00000238244.3</th>\n",
       "      <th>ENSG00000186115.11</th>\n",
       "      <th>ENSG00000216352.1</th>\n",
       "      <th>ENSG00000267117.1</th>\n",
       "      <th>ENSG00000273233.1</th>\n",
       "      <th>ENSG00000105063.17</th>\n",
       "      <th>ENSG00000231119.2</th>\n",
       "      <th>ENSG00000280861.1</th>\n",
       "      <th>ENSG00000123685.7</th>\n",
       "      <th>ENSG00000181518.3</th>\n",
       "    </tr>\n",
       "  </thead>\n",
       "  <tbody>\n",
       "    <tr>\n",
       "      <th>TCGA-A2-A0YG-01A</th>\n",
       "      <td>LumB</td>\n",
       "      <td>0.0</td>\n",
       "      <td>8.411591</td>\n",
       "      <td>15.184759</td>\n",
       "      <td>0.0</td>\n",
       "      <td>16.249897</td>\n",
       "      <td>18.530273</td>\n",
       "      <td>0.0</td>\n",
       "      <td>12.972487</td>\n",
       "      <td>20.788958</td>\n",
       "      <td>...</td>\n",
       "      <td>0.0</td>\n",
       "      <td>8.792292</td>\n",
       "      <td>0.0</td>\n",
       "      <td>12.207135</td>\n",
       "      <td>0.0</td>\n",
       "      <td>18.839781</td>\n",
       "      <td>11.286543</td>\n",
       "      <td>0.0</td>\n",
       "      <td>12.045564</td>\n",
       "      <td>0.0</td>\n",
       "    </tr>\n",
       "  </tbody>\n",
       "</table>\n",
       "<p>1 rows × 60484 columns</p>\n",
       "</div>"
      ],
      "text/plain": [
       "                 Labels  ENSG00000242268.2  ENSG00000270112.3  \\\n",
       "TCGA-A2-A0YG-01A   LumB                0.0           8.411591   \n",
       "\n",
       "                  ENSG00000167578.15  ENSG00000273842.1  ENSG00000078237.5  \\\n",
       "TCGA-A2-A0YG-01A           15.184759                0.0          16.249897   \n",
       "\n",
       "                  ENSG00000146083.10  ENSG00000225275.4  ENSG00000158486.12  \\\n",
       "TCGA-A2-A0YG-01A           18.530273                0.0           12.972487   \n",
       "\n",
       "                  ENSG00000198242.12  ...  ENSG00000238244.3  \\\n",
       "TCGA-A2-A0YG-01A           20.788958  ...                0.0   \n",
       "\n",
       "                  ENSG00000186115.11  ENSG00000216352.1  ENSG00000267117.1  \\\n",
       "TCGA-A2-A0YG-01A            8.792292                0.0          12.207135   \n",
       "\n",
       "                  ENSG00000273233.1  ENSG00000105063.17  ENSG00000231119.2  \\\n",
       "TCGA-A2-A0YG-01A                0.0           18.839781          11.286543   \n",
       "\n",
       "                  ENSG00000280861.1  ENSG00000123685.7  ENSG00000181518.3  \n",
       "TCGA-A2-A0YG-01A                0.0          12.045564                0.0  \n",
       "\n",
       "[1 rows x 60484 columns]"
      ]
     },
     "execution_count": 49,
     "metadata": {},
     "output_type": "execute_result"
    }
   ],
   "source": [
    "stack.tail(1)"
   ]
  },
  {
   "cell_type": "code",
   "execution_count": 50,
   "id": "0eba643f-b5fc-41d5-9b31-1318683f667a",
   "metadata": {},
   "outputs": [
    {
     "name": "stdout",
     "output_type": "stream",
     "text": [
      "4.817362070083618\n"
     ]
    }
   ],
   "source": [
    "k = 5 # Multiple for n thousand features to select\n",
    "mad_start = time.time()\n",
    "features = (stack.iloc[:, 1:] - stack.iloc[:, 1:].mean()).abs().mean().sort_values(ascending=False)[:k*1000].index\n",
    "print(time.time() - mad_start)"
   ]
  },
  {
   "cell_type": "code",
   "execution_count": 51,
   "id": "6ab3ea48-0478-432a-bda2-967d9a861477",
   "metadata": {},
   "outputs": [
    {
     "data": {
      "text/plain": [
       "5000"
      ]
     },
     "execution_count": 51,
     "metadata": {},
     "output_type": "execute_result"
    }
   ],
   "source": [
    "len(features) # check"
   ]
  },
  {
   "cell_type": "code",
   "execution_count": 52,
   "id": "462eb25f-6ee1-4527-ba01-7fe0119da9e4",
   "metadata": {},
   "outputs": [
    {
     "data": {
      "text/plain": [
       "TCGA-OR-A5JP-01A      x_n\n",
       "TCGA-OR-A5JE-01A      x_n\n",
       "TCGA-OR-A5JG-01A      x_n\n",
       "TCGA-OR-A5L9-01A      x_n\n",
       "TCGA-OR-A5JR-01A      x_n\n",
       "                    ...  \n",
       "TCGA-C8-A12V-01A    Basal\n",
       "TCGA-A2-A0YH-01A     LumB\n",
       "TCGA-AO-A0JB-01A    Basal\n",
       "TCGA-A2-A0T5-01A     LumA\n",
       "TCGA-A2-A0YG-01A     LumB\n",
       "Name: Labels, Length: 11768, dtype: object"
      ]
     },
     "execution_count": 52,
     "metadata": {},
     "output_type": "execute_result"
    }
   ],
   "source": [
    "stack.Labels"
   ]
  },
  {
   "cell_type": "code",
   "execution_count": 54,
   "id": "9dc42914-ef07-46f2-b4ea-7ff8f36d73b1",
   "metadata": {},
   "outputs": [
    {
     "data": {
      "text/plain": [
       "Index(['TCGA-OR-A5JP-01A', 'TCGA-OR-A5JE-01A', 'TCGA-OR-A5JG-01A',\n",
       "       'TCGA-OR-A5L9-01A', 'TCGA-OR-A5JR-01A', 'TCGA-OR-A5KU-01A',\n",
       "       'TCGA-OR-A5LS-01A', 'TCGA-OR-A5J7-01A', 'TCGA-OR-A5JQ-01A',\n",
       "       'TCGA-OR-A5JS-01A',\n",
       "       ...\n",
       "       'TCGA-A2-A0YL-01A', 'TCGA-C8-A12U-01A', 'TCGA-AO-A124-01A',\n",
       "       'TCGA-BH-A1EV-01A', 'TCGA-A2-A0ES-01A', 'TCGA-C8-A12V-01A',\n",
       "       'TCGA-A2-A0YH-01A', 'TCGA-AO-A0JB-01A', 'TCGA-A2-A0T5-01A',\n",
       "       'TCGA-A2-A0YG-01A'],\n",
       "      dtype='object', length=11768)"
      ]
     },
     "execution_count": 54,
     "metadata": {},
     "output_type": "execute_result"
    }
   ],
   "source": [
    "stack.index.unique() # no duplicates"
   ]
  },
  {
   "cell_type": "code",
   "execution_count": 55,
   "id": "ab22c798-d8fa-42ad-b8ab-2d0fb0067949",
   "metadata": {},
   "outputs": [],
   "source": [
    "stack_5k = pd.concat(\n",
    "    [stack.Labels, stack.loc[:, features]],\n",
    "    axis = 1)"
   ]
  },
  {
   "cell_type": "code",
   "execution_count": 56,
   "id": "b4a3417b-890a-4134-9ca4-ac88bf785c7a",
   "metadata": {},
   "outputs": [
    {
     "data": {
      "text/plain": [
       "(11768, 5001)"
      ]
     },
     "execution_count": 56,
     "metadata": {},
     "output_type": "execute_result"
    }
   ],
   "source": [
    "stack_5k.shape"
   ]
  },
  {
   "cell_type": "code",
   "execution_count": null,
   "id": "5c6ac2d7-a094-4d40-8b26-7cdde4f0afdc",
   "metadata": {},
   "outputs": [],
   "source": [
    "# Feature-wise normalization done independently within the train file and the synthesis file\n",
    "# Common mad features between train and synth for transfer learning"
   ]
  },
  {
   "cell_type": "code",
   "execution_count": 57,
   "id": "02e38e60-02c7-4081-91eb-e36d36a8ebfc",
   "metadata": {},
   "outputs": [],
   "source": [
    "train_5k = stack_5k.loc[~stack_5k.index.isin(syn_lst)]"
   ]
  },
  {
   "cell_type": "code",
   "execution_count": 58,
   "id": "8dc0bcdf-bf59-4af3-9a72-78ada8b3ad9b",
   "metadata": {},
   "outputs": [
    {
     "data": {
      "text/plain": [
       "(11701, 5001)"
      ]
     },
     "execution_count": 58,
     "metadata": {},
     "output_type": "execute_result"
    }
   ],
   "source": [
    "train_5k.shape"
   ]
  },
  {
   "cell_type": "code",
   "execution_count": 59,
   "id": "7c0a2cee-cd70-4fc6-92de-09dec4fd49ec",
   "metadata": {},
   "outputs": [],
   "source": [
    "synth_5k = stack_5k.loc[stack_5k.index.isin(syn_lst)]"
   ]
  },
  {
   "cell_type": "code",
   "execution_count": 60,
   "id": "06fb4889-85ca-482c-9898-78d35fe5de16",
   "metadata": {},
   "outputs": [
    {
     "data": {
      "text/plain": [
       "(67, 5001)"
      ]
     },
     "execution_count": 60,
     "metadata": {},
     "output_type": "execute_result"
    }
   ],
   "source": [
    "synth_5k.shape"
   ]
  },
  {
   "cell_type": "markdown",
   "id": "ce44b878-4358-482d-8c88-0b4d53ed36b6",
   "metadata": {},
   "source": [
    "### normalize train"
   ]
  },
  {
   "cell_type": "code",
   "execution_count": 61,
   "id": "daf1606d-7b55-4773-813a-8bf1f9630c90",
   "metadata": {},
   "outputs": [],
   "source": [
    "train_max_col_vals = train_5k.iloc[:, 1:].max()"
   ]
  },
  {
   "cell_type": "code",
   "execution_count": 62,
   "id": "8e4bc892-6c79-46b8-8c16-f72828bca288",
   "metadata": {},
   "outputs": [],
   "source": [
    "X_train = (train_5k.iloc[:, 1:] / train_max_col_vals)"
   ]
  },
  {
   "cell_type": "code",
   "execution_count": 74,
   "id": "ad14d131-745c-4020-8fdb-2c9dc6da6931",
   "metadata": {
    "tags": []
   },
   "outputs": [
    {
     "data": {
      "text/html": [
       "<div>\n",
       "<style scoped>\n",
       "    .dataframe tbody tr th:only-of-type {\n",
       "        vertical-align: middle;\n",
       "    }\n",
       "\n",
       "    .dataframe tbody tr th {\n",
       "        vertical-align: top;\n",
       "    }\n",
       "\n",
       "    .dataframe thead th {\n",
       "        text-align: right;\n",
       "    }\n",
       "</style>\n",
       "<table border=\"1\" class=\"dataframe\">\n",
       "  <thead>\n",
       "    <tr style=\"text-align: right;\">\n",
       "      <th></th>\n",
       "      <th>ENSG00000226278.1</th>\n",
       "      <th>ENSG00000274735.1</th>\n",
       "      <th>ENSG00000169474.4</th>\n",
       "      <th>ENSG00000211593.2</th>\n",
       "      <th>ENSG00000204894.4</th>\n",
       "      <th>ENSG00000169469.8</th>\n",
       "      <th>ENSG00000211905.1</th>\n",
       "      <th>ENSG00000237111.1</th>\n",
       "      <th>ENSG00000241781.2</th>\n",
       "      <th>ENSG00000239776.2</th>\n",
       "      <th>...</th>\n",
       "      <th>ENSG00000234184.4</th>\n",
       "      <th>ENSG00000253334.1</th>\n",
       "      <th>ENSG00000241105.1</th>\n",
       "      <th>ENSG00000257715.1</th>\n",
       "      <th>ENSG00000266206.1</th>\n",
       "      <th>ENSG00000267644.1</th>\n",
       "      <th>ENSG00000228525.1</th>\n",
       "      <th>ENSG00000203593.3</th>\n",
       "      <th>ENSG00000272218.1</th>\n",
       "      <th>ENSG00000250366.2</th>\n",
       "    </tr>\n",
       "  </thead>\n",
       "  <tbody>\n",
       "    <tr>\n",
       "      <th>TCGA-OR-A5JP-01A</th>\n",
       "      <td>0.0</td>\n",
       "      <td>0.453327</td>\n",
       "      <td>0.709609</td>\n",
       "      <td>0.0</td>\n",
       "      <td>0.0</td>\n",
       "      <td>0.478471</td>\n",
       "      <td>0.0</td>\n",
       "      <td>0.0</td>\n",
       "      <td>0.485832</td>\n",
       "      <td>0.0</td>\n",
       "      <td>...</td>\n",
       "      <td>0.0</td>\n",
       "      <td>0.539001</td>\n",
       "      <td>0.0</td>\n",
       "      <td>0.0</td>\n",
       "      <td>0.0</td>\n",
       "      <td>0.658941</td>\n",
       "      <td>0.0</td>\n",
       "      <td>0.527925</td>\n",
       "      <td>0.0</td>\n",
       "      <td>0.0</td>\n",
       "    </tr>\n",
       "  </tbody>\n",
       "</table>\n",
       "<p>1 rows × 5000 columns</p>\n",
       "</div>"
      ],
      "text/plain": [
       "                  ENSG00000226278.1  ENSG00000274735.1  ENSG00000169474.4  \\\n",
       "TCGA-OR-A5JP-01A                0.0           0.453327           0.709609   \n",
       "\n",
       "                  ENSG00000211593.2  ENSG00000204894.4  ENSG00000169469.8  \\\n",
       "TCGA-OR-A5JP-01A                0.0                0.0           0.478471   \n",
       "\n",
       "                  ENSG00000211905.1  ENSG00000237111.1  ENSG00000241781.2  \\\n",
       "TCGA-OR-A5JP-01A                0.0                0.0           0.485832   \n",
       "\n",
       "                  ENSG00000239776.2  ...  ENSG00000234184.4  \\\n",
       "TCGA-OR-A5JP-01A                0.0  ...                0.0   \n",
       "\n",
       "                  ENSG00000253334.1  ENSG00000241105.1  ENSG00000257715.1  \\\n",
       "TCGA-OR-A5JP-01A           0.539001                0.0                0.0   \n",
       "\n",
       "                  ENSG00000266206.1  ENSG00000267644.1  ENSG00000228525.1  \\\n",
       "TCGA-OR-A5JP-01A                0.0           0.658941                0.0   \n",
       "\n",
       "                  ENSG00000203593.3  ENSG00000272218.1  ENSG00000250366.2  \n",
       "TCGA-OR-A5JP-01A           0.527925                0.0                0.0  \n",
       "\n",
       "[1 rows x 5000 columns]"
      ]
     },
     "execution_count": 74,
     "metadata": {},
     "output_type": "execute_result"
    }
   ],
   "source": [
    "X_train.head(1)"
   ]
  },
  {
   "cell_type": "code",
   "execution_count": 64,
   "id": "875b4ced-ee43-4ec8-ba83-675feb10377d",
   "metadata": {},
   "outputs": [
    {
     "data": {
      "text/plain": [
       "(11701, 5000)"
      ]
     },
     "execution_count": 64,
     "metadata": {},
     "output_type": "execute_result"
    }
   ],
   "source": [
    "X_train.shape"
   ]
  },
  {
   "cell_type": "code",
   "execution_count": 65,
   "id": "8e7ee739-901c-41e3-96c7-02758a7d362b",
   "metadata": {},
   "outputs": [
    {
     "data": {
      "text/plain": [
       "TCGA-OR-A5JP-01A        x_n\n",
       "TCGA-OR-A5JE-01A        x_n\n",
       "TCGA-OR-A5JG-01A        x_n\n",
       "TCGA-OR-A5L9-01A        x_n\n",
       "TCGA-OR-A5JR-01A        x_n\n",
       "                       ... \n",
       "TARGET-50-PAJNZU-01A    x_n\n",
       "TARGET-50-PAJNNR-01A    x_n\n",
       "TARGET-50-PAJNTJ-02A    x_n\n",
       "TARGET-50-PAECJB-01A    x_n\n",
       "TARGET-50-PALFRD-01A    x_n\n",
       "Name: Labels, Length: 11701, dtype: object"
      ]
     },
     "execution_count": 65,
     "metadata": {},
     "output_type": "execute_result"
    }
   ],
   "source": [
    "train_5k.Labels"
   ]
  },
  {
   "cell_type": "code",
   "execution_count": 66,
   "id": "36decae6-d5a2-43de-bc5b-9273d3cec5cf",
   "metadata": {},
   "outputs": [],
   "source": [
    "X_train_labeled = pd.concat([train_5k.Labels, X_train], axis = 1)"
   ]
  },
  {
   "cell_type": "code",
   "execution_count": 67,
   "id": "b571606b-46e7-461a-89be-f6d2593af02c",
   "metadata": {},
   "outputs": [
    {
     "data": {
      "text/plain": [
       "(11701, 5001)"
      ]
     },
     "execution_count": 67,
     "metadata": {},
     "output_type": "execute_result"
    }
   ],
   "source": [
    "X_train_labeled.shape"
   ]
  },
  {
   "cell_type": "code",
   "execution_count": 68,
   "id": "a92029ab-e226-4b1f-ac8d-be3e727da193",
   "metadata": {},
   "outputs": [],
   "source": [
    "X_train_labeled.to_csv('i_o/xena/X_train_xena_2022-02-02.tsv', sep = '\\t')"
   ]
  },
  {
   "cell_type": "code",
   "execution_count": 69,
   "id": "5917e793-16f4-4f74-a362-49a1c84321c1",
   "metadata": {},
   "outputs": [],
   "source": [
    "X_train_read_test = pd.read_csv('i_o/xena/X_train_xena_2022-02-02.tsv', sep = '\\t', index_col = 0)"
   ]
  },
  {
   "cell_type": "code",
   "execution_count": 75,
   "id": "04760656-e0f3-42d1-a2a0-c68e6f4df6b9",
   "metadata": {},
   "outputs": [
    {
     "data": {
      "text/html": [
       "<div>\n",
       "<style scoped>\n",
       "    .dataframe tbody tr th:only-of-type {\n",
       "        vertical-align: middle;\n",
       "    }\n",
       "\n",
       "    .dataframe tbody tr th {\n",
       "        vertical-align: top;\n",
       "    }\n",
       "\n",
       "    .dataframe thead th {\n",
       "        text-align: right;\n",
       "    }\n",
       "</style>\n",
       "<table border=\"1\" class=\"dataframe\">\n",
       "  <thead>\n",
       "    <tr style=\"text-align: right;\">\n",
       "      <th></th>\n",
       "      <th>Labels</th>\n",
       "      <th>ENSG00000226278.1</th>\n",
       "      <th>ENSG00000274735.1</th>\n",
       "      <th>ENSG00000169474.4</th>\n",
       "      <th>ENSG00000211593.2</th>\n",
       "      <th>ENSG00000204894.4</th>\n",
       "      <th>ENSG00000169469.8</th>\n",
       "      <th>ENSG00000211905.1</th>\n",
       "      <th>ENSG00000237111.1</th>\n",
       "      <th>ENSG00000241781.2</th>\n",
       "      <th>...</th>\n",
       "      <th>ENSG00000234184.4</th>\n",
       "      <th>ENSG00000253334.1</th>\n",
       "      <th>ENSG00000241105.1</th>\n",
       "      <th>ENSG00000257715.1</th>\n",
       "      <th>ENSG00000266206.1</th>\n",
       "      <th>ENSG00000267644.1</th>\n",
       "      <th>ENSG00000228525.1</th>\n",
       "      <th>ENSG00000203593.3</th>\n",
       "      <th>ENSG00000272218.1</th>\n",
       "      <th>ENSG00000250366.2</th>\n",
       "    </tr>\n",
       "  </thead>\n",
       "  <tbody>\n",
       "    <tr>\n",
       "      <th>TCGA-OR-A5JP-01A</th>\n",
       "      <td>x_n</td>\n",
       "      <td>0.0</td>\n",
       "      <td>0.453327</td>\n",
       "      <td>0.709609</td>\n",
       "      <td>0.0</td>\n",
       "      <td>0.0</td>\n",
       "      <td>0.478471</td>\n",
       "      <td>0.0</td>\n",
       "      <td>0.0</td>\n",
       "      <td>0.485832</td>\n",
       "      <td>...</td>\n",
       "      <td>0.0</td>\n",
       "      <td>0.539001</td>\n",
       "      <td>0.0</td>\n",
       "      <td>0.0</td>\n",
       "      <td>0.0</td>\n",
       "      <td>0.658941</td>\n",
       "      <td>0.0</td>\n",
       "      <td>0.527925</td>\n",
       "      <td>0.0</td>\n",
       "      <td>0.0</td>\n",
       "    </tr>\n",
       "  </tbody>\n",
       "</table>\n",
       "<p>1 rows × 5001 columns</p>\n",
       "</div>"
      ],
      "text/plain": [
       "                 Labels  ENSG00000226278.1  ENSG00000274735.1  \\\n",
       "TCGA-OR-A5JP-01A    x_n                0.0           0.453327   \n",
       "\n",
       "                  ENSG00000169474.4  ENSG00000211593.2  ENSG00000204894.4  \\\n",
       "TCGA-OR-A5JP-01A           0.709609                0.0                0.0   \n",
       "\n",
       "                  ENSG00000169469.8  ENSG00000211905.1  ENSG00000237111.1  \\\n",
       "TCGA-OR-A5JP-01A           0.478471                0.0                0.0   \n",
       "\n",
       "                  ENSG00000241781.2  ...  ENSG00000234184.4  \\\n",
       "TCGA-OR-A5JP-01A           0.485832  ...                0.0   \n",
       "\n",
       "                  ENSG00000253334.1  ENSG00000241105.1  ENSG00000257715.1  \\\n",
       "TCGA-OR-A5JP-01A           0.539001                0.0                0.0   \n",
       "\n",
       "                  ENSG00000266206.1  ENSG00000267644.1  ENSG00000228525.1  \\\n",
       "TCGA-OR-A5JP-01A                0.0           0.658941                0.0   \n",
       "\n",
       "                  ENSG00000203593.3  ENSG00000272218.1  ENSG00000250366.2  \n",
       "TCGA-OR-A5JP-01A           0.527925                0.0                0.0  \n",
       "\n",
       "[1 rows x 5001 columns]"
      ]
     },
     "execution_count": 75,
     "metadata": {},
     "output_type": "execute_result"
    }
   ],
   "source": [
    "X_train_read_test.head(1)"
   ]
  },
  {
   "cell_type": "code",
   "execution_count": 71,
   "id": "8b32f3ed-fd77-4ca8-ad61-8d867d6b6457",
   "metadata": {},
   "outputs": [
    {
     "data": {
      "text/plain": [
       "Index([    'TCGA-OR-A5JP-01A',     'TCGA-OR-A5JE-01A',     'TCGA-OR-A5JG-01A',\n",
       "           'TCGA-OR-A5L9-01A',     'TCGA-OR-A5JR-01A',     'TCGA-OR-A5KU-01A',\n",
       "           'TCGA-OR-A5LS-01A',     'TCGA-OR-A5J7-01A',     'TCGA-OR-A5JQ-01A',\n",
       "           'TCGA-OR-A5JS-01A',\n",
       "       ...\n",
       "       'TARGET-50-PAJMKJ-01A', 'TARGET-50-CAAAAQ-11A', 'TARGET-50-PAKSCC-01A',\n",
       "       'TARGET-50-PAJNSL-11A', 'TARGET-50-PAJPAU-01A', 'TARGET-50-PAJNZU-01A',\n",
       "       'TARGET-50-PAJNNR-01A', 'TARGET-50-PAJNTJ-02A', 'TARGET-50-PAECJB-01A',\n",
       "       'TARGET-50-PALFRD-01A'],\n",
       "      dtype='object', length=11701)"
      ]
     },
     "execution_count": 71,
     "metadata": {},
     "output_type": "execute_result"
    }
   ],
   "source": [
    "X_train_read_test.index.unique()"
   ]
  },
  {
   "cell_type": "code",
   "execution_count": null,
   "id": "fb5c3314-6361-4cb8-86df-5c292a1a806a",
   "metadata": {},
   "outputs": [],
   "source": [
    "# End normalization of train file"
   ]
  },
  {
   "cell_type": "markdown",
   "id": "6ae14ff5-4266-4b0d-9528-ebf0b79f6c2b",
   "metadata": {},
   "source": [
    "### Normalize the tune file, put Labels back on from the drop 2 synth objectm"
   ]
  },
  {
   "cell_type": "code",
   "execution_count": 77,
   "id": "cd8a9e85-f939-4c72-9914-66504faa4fa9",
   "metadata": {},
   "outputs": [],
   "source": [
    "synth_max_col_vals = synth_5k.iloc[:, 1:].max()"
   ]
  },
  {
   "cell_type": "code",
   "execution_count": 78,
   "id": "f8444094-e363-4a47-82d3-5cf4cda21ca1",
   "metadata": {
    "tags": []
   },
   "outputs": [],
   "source": [
    "X_synth = (synth_5k.iloc[:, 1:] / synth_max_col_vals)"
   ]
  },
  {
   "cell_type": "code",
   "execution_count": 80,
   "id": "2d468197-5039-4b4c-a37d-f11a849ce167",
   "metadata": {},
   "outputs": [],
   "source": [
    "X_synth_labeled = pd.concat([synth_5k.Labels, X_synth], axis = 1)"
   ]
  },
  {
   "cell_type": "code",
   "execution_count": 82,
   "id": "24b40c80-fe16-4247-b80d-8bce638fc18f",
   "metadata": {},
   "outputs": [],
   "source": [
    "X_synth.to_csv('i_o/xena/X_synth_xena_2022-02-02.tsv', sep = '\\t')"
   ]
  },
  {
   "cell_type": "code",
   "execution_count": 83,
   "id": "99a15d8f-f5a9-443c-aba2-e7d1b0b2e9f0",
   "metadata": {},
   "outputs": [],
   "source": [
    "X_synth_read_test = pd.read_csv('i_o/xena/X_synth_xena_2022-02-02.tsv', sep = '\\t', index_col = 0)"
   ]
  },
  {
   "cell_type": "code",
   "execution_count": 84,
   "id": "4eb99003-2d7c-48d4-b85e-0a3d34dceb68",
   "metadata": {},
   "outputs": [
    {
     "data": {
      "text/html": [
       "<div>\n",
       "<style scoped>\n",
       "    .dataframe tbody tr th:only-of-type {\n",
       "        vertical-align: middle;\n",
       "    }\n",
       "\n",
       "    .dataframe tbody tr th {\n",
       "        vertical-align: top;\n",
       "    }\n",
       "\n",
       "    .dataframe thead th {\n",
       "        text-align: right;\n",
       "    }\n",
       "</style>\n",
       "<table border=\"1\" class=\"dataframe\">\n",
       "  <thead>\n",
       "    <tr style=\"text-align: right;\">\n",
       "      <th></th>\n",
       "      <th>ENSG00000226278.1</th>\n",
       "      <th>ENSG00000274735.1</th>\n",
       "      <th>ENSG00000169474.4</th>\n",
       "      <th>ENSG00000211593.2</th>\n",
       "      <th>ENSG00000204894.4</th>\n",
       "      <th>ENSG00000169469.8</th>\n",
       "      <th>ENSG00000211905.1</th>\n",
       "      <th>ENSG00000237111.1</th>\n",
       "      <th>ENSG00000241781.2</th>\n",
       "      <th>ENSG00000239776.2</th>\n",
       "      <th>...</th>\n",
       "      <th>ENSG00000234184.4</th>\n",
       "      <th>ENSG00000253334.1</th>\n",
       "      <th>ENSG00000241105.1</th>\n",
       "      <th>ENSG00000257715.1</th>\n",
       "      <th>ENSG00000266206.1</th>\n",
       "      <th>ENSG00000267644.1</th>\n",
       "      <th>ENSG00000228525.1</th>\n",
       "      <th>ENSG00000203593.3</th>\n",
       "      <th>ENSG00000272218.1</th>\n",
       "      <th>ENSG00000250366.2</th>\n",
       "    </tr>\n",
       "  </thead>\n",
       "  <tbody>\n",
       "    <tr>\n",
       "      <th>TCGA-A7-A13F-01A</th>\n",
       "      <td>0.0</td>\n",
       "      <td>0.0</td>\n",
       "      <td>0.0</td>\n",
       "      <td>0.0</td>\n",
       "      <td>0.657671</td>\n",
       "      <td>0.414202</td>\n",
       "      <td>0.0</td>\n",
       "      <td>0.738717</td>\n",
       "      <td>0.0</td>\n",
       "      <td>0.746165</td>\n",
       "      <td>...</td>\n",
       "      <td>0.0</td>\n",
       "      <td>0.0</td>\n",
       "      <td>0.0</td>\n",
       "      <td>0.851262</td>\n",
       "      <td>0.0</td>\n",
       "      <td>0.653127</td>\n",
       "      <td>0.856256</td>\n",
       "      <td>0.748212</td>\n",
       "      <td>0.0</td>\n",
       "      <td>0.0</td>\n",
       "    </tr>\n",
       "  </tbody>\n",
       "</table>\n",
       "<p>1 rows × 5000 columns</p>\n",
       "</div>"
      ],
      "text/plain": [
       "                  ENSG00000226278.1  ENSG00000274735.1  ENSG00000169474.4  \\\n",
       "TCGA-A7-A13F-01A                0.0                0.0                0.0   \n",
       "\n",
       "                  ENSG00000211593.2  ENSG00000204894.4  ENSG00000169469.8  \\\n",
       "TCGA-A7-A13F-01A                0.0           0.657671           0.414202   \n",
       "\n",
       "                  ENSG00000211905.1  ENSG00000237111.1  ENSG00000241781.2  \\\n",
       "TCGA-A7-A13F-01A                0.0           0.738717                0.0   \n",
       "\n",
       "                  ENSG00000239776.2  ...  ENSG00000234184.4  \\\n",
       "TCGA-A7-A13F-01A           0.746165  ...                0.0   \n",
       "\n",
       "                  ENSG00000253334.1  ENSG00000241105.1  ENSG00000257715.1  \\\n",
       "TCGA-A7-A13F-01A                0.0                0.0           0.851262   \n",
       "\n",
       "                  ENSG00000266206.1  ENSG00000267644.1  ENSG00000228525.1  \\\n",
       "TCGA-A7-A13F-01A                0.0           0.653127           0.856256   \n",
       "\n",
       "                  ENSG00000203593.3  ENSG00000272218.1  ENSG00000250366.2  \n",
       "TCGA-A7-A13F-01A           0.748212                0.0                0.0  \n",
       "\n",
       "[1 rows x 5000 columns]"
      ]
     },
     "execution_count": 84,
     "metadata": {},
     "output_type": "execute_result"
    }
   ],
   "source": [
    "X_synth_read_test.head(1)"
   ]
  }
 ],
 "metadata": {
  "kernelspec": {
   "display_name": "Python 3 (ipykernel)",
   "language": "python",
   "name": "python3"
  },
  "language_info": {
   "codemirror_mode": {
    "name": "ipython",
    "version": 3
   },
   "file_extension": ".py",
   "mimetype": "text/x-python",
   "name": "python",
   "nbconvert_exporter": "python",
   "pygments_lexer": "ipython3",
   "version": "3.9.13"
  }
 },
 "nbformat": 4,
 "nbformat_minor": 5
}
